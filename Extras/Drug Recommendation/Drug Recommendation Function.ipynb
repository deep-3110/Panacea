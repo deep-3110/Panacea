{
 "cells": [
  {
   "cell_type": "code",
   "execution_count": 1,
   "id": "5f6987da",
   "metadata": {},
   "outputs": [],
   "source": [
    "import pandas as pd"
   ]
  },
  {
   "cell_type": "code",
   "execution_count": 6,
   "id": "5db482a3",
   "metadata": {},
   "outputs": [
    {
     "data": {
      "text/html": [
       "<div>\n",
       "<style scoped>\n",
       "    .dataframe tbody tr th:only-of-type {\n",
       "        vertical-align: middle;\n",
       "    }\n",
       "\n",
       "    .dataframe tbody tr th {\n",
       "        vertical-align: top;\n",
       "    }\n",
       "\n",
       "    .dataframe thead th {\n",
       "        text-align: right;\n",
       "    }\n",
       "</style>\n",
       "<table border=\"1\" class=\"dataframe\">\n",
       "  <thead>\n",
       "    <tr style=\"text-align: right;\">\n",
       "      <th></th>\n",
       "      <th>condition</th>\n",
       "      <th>drug_name</th>\n",
       "      <th>mean</th>\n",
       "    </tr>\n",
       "  </thead>\n",
       "  <tbody>\n",
       "    <tr>\n",
       "      <th>0</th>\n",
       "      <td>ADHD</td>\n",
       "      <td>Adderall</td>\n",
       "      <td>6.984375</td>\n",
       "    </tr>\n",
       "    <tr>\n",
       "      <th>1</th>\n",
       "      <td>ADHD</td>\n",
       "      <td>Adderall XR</td>\n",
       "      <td>7.149533</td>\n",
       "    </tr>\n",
       "    <tr>\n",
       "      <th>2</th>\n",
       "      <td>ADHD</td>\n",
       "      <td>Adzenys XR-ODT</td>\n",
       "      <td>6.805556</td>\n",
       "    </tr>\n",
       "    <tr>\n",
       "      <th>3</th>\n",
       "      <td>ADHD</td>\n",
       "      <td>Amantadine</td>\n",
       "      <td>5.666667</td>\n",
       "    </tr>\n",
       "    <tr>\n",
       "      <th>4</th>\n",
       "      <td>ADHD</td>\n",
       "      <td>Amphetamine</td>\n",
       "      <td>6.522727</td>\n",
       "    </tr>\n",
       "  </tbody>\n",
       "</table>\n",
       "</div>"
      ],
      "text/plain": [
       "  condition       drug_name      mean\n",
       "0      ADHD        Adderall  6.984375\n",
       "1      ADHD     Adderall XR  7.149533\n",
       "2      ADHD  Adzenys XR-ODT  6.805556\n",
       "3      ADHD      Amantadine  5.666667\n",
       "4      ADHD     Amphetamine  6.522727"
      ]
     },
     "execution_count": 6,
     "metadata": {},
     "output_type": "execute_result"
    }
   ],
   "source": [
    "drug_df=pd.read_csv('dataset/grouped_drugRec.csv')\n",
    "drug_df=drug_df.dropna()\n",
    "drug_df.head()"
   ]
  },
  {
   "cell_type": "code",
   "execution_count": 32,
   "id": "21833d65",
   "metadata": {},
   "outputs": [],
   "source": [
    "def drugrec(condition):\n",
    "    p_drug_name=drug_df.where(drug_df.condition == 'ADHD')\n",
    "    p_drug_name=p_drug_name.sort_values(by=['mean'],ascending=False)\n",
    "    condition=p_drug_name['condition'].dropna().values.tolist()\n",
    "    drug_name=p_drug_name['drug_name'].dropna().values.tolist()\n",
    "    mean_pred=p_drug_name['mean'].dropna().values.tolist()\n",
    "    print('Drug Name: '+ str(drug_name[0:5]))\n",
    "    print('\\nCondition: '+ str(condition[0:5]))\n",
    "    print('\\nPrediction: '+ str(mean_pred[0:5]))\n",
    "\n"
   ]
  },
  {
   "cell_type": "code",
   "execution_count": 33,
   "id": "75d12ecd",
   "metadata": {},
   "outputs": [
    {
     "name": "stdout",
     "output_type": "stream",
     "text": [
      "Drug Name: ['ProCentra', 'Catapres', 'Provigil', 'Desvenlafaxine', 'Methylin']\n",
      "\n",
      "Condition: ['ADHD', 'ADHD', 'ADHD', 'ADHD', 'ADHD']\n",
      "\n",
      "Prediction: [10.0, 9.166666667, 8.625, 8.5, 8.4375]\n"
     ]
    }
   ],
   "source": [
    "drugrec(str('ADHD'))"
   ]
  },
  {
   "cell_type": "code",
   "execution_count": null,
   "id": "76ce2c49",
   "metadata": {},
   "outputs": [],
   "source": []
  }
 ],
 "metadata": {
  "kernelspec": {
   "display_name": "Python 3 (ipykernel)",
   "language": "python",
   "name": "python3"
  },
  "language_info": {
   "codemirror_mode": {
    "name": "ipython",
    "version": 3
   },
   "file_extension": ".py",
   "mimetype": "text/x-python",
   "name": "python",
   "nbconvert_exporter": "python",
   "pygments_lexer": "ipython3",
   "version": "3.9.7"
  }
 },
 "nbformat": 4,
 "nbformat_minor": 5
}
