{
 "cells": [
  {
   "cell_type": "markdown",
   "id": "d564c8b0",
   "metadata": {},
   "source": [
    "### Synthetic Data Function"
   ]
  },
  {
   "cell_type": "code",
   "execution_count": 1,
   "id": "a2a3407c",
   "metadata": {},
   "outputs": [],
   "source": [
    "import pandas as pd"
   ]
  },
  {
   "cell_type": "code",
   "execution_count": 2,
   "id": "a1ec6770",
   "metadata": {},
   "outputs": [],
   "source": [
    "allergies=pd.read_csv(r'C:\\Users\\deeps\\Desktop\\Final Year Proj\\synthetic\\allergies.csv')\n",
    "careplans=pd.read_csv(r'C:\\Users\\deeps\\Desktop\\Final Year Proj\\synthetic\\careplans.csv')\n",
    "conditions=pd.read_csv(r'C:\\Users\\deeps\\Desktop\\Final Year Proj\\synthetic\\conditions.csv')\n",
    "devices=pd.read_csv(r'C:\\Users\\deeps\\Desktop\\Final Year Proj\\synthetic\\devices.csv')\n",
    "encounters=pd.read_csv(r'C:\\Users\\deeps\\Desktop\\Final Year Proj\\synthetic\\encounters.csv')\n",
    "imaging_studies=pd.read_csv(r'C:\\Users\\deeps\\Desktop\\Final Year Proj\\synthetic\\imaging_studies.csv')\n",
    "immunizations=pd.read_csv(r'C:\\Users\\deeps\\Desktop\\Final Year Proj\\synthetic\\immunizations.csv')\n",
    "medications=pd.read_csv(r'C:\\Users\\deeps\\Desktop\\Final Year Proj\\synthetic\\medications.csv')\n",
    "observations=pd.read_csv(r'C:\\Users\\deeps\\Desktop\\Final Year Proj\\synthetic\\observations.csv')\n",
    "organizations=pd.read_csv(r'C:\\Users\\deeps\\Desktop\\Final Year Proj\\synthetic\\organizations.csv')\n",
    "patients=pd.read_csv(r'C:\\Users\\deeps\\Desktop\\Final Year Proj\\synthetic\\patients.csv')\n",
    "payer_transitions=pd.read_csv(r'C:\\Users\\deeps\\Desktop\\Final Year Proj\\synthetic\\payer_transitions.csv')\n",
    "payers=pd.read_csv(r'C:\\Users\\deeps\\Desktop\\Final Year Proj\\synthetic\\payers.csv')\n",
    "procedures=pd.read_csv(r'C:\\Users\\deeps\\Desktop\\Final Year Proj\\synthetic\\procedures.csv')\n",
    "providers=pd.read_csv(r'C:\\Users\\deeps\\Desktop\\Final Year Proj\\synthetic\\providers.csv')\n",
    "supplies=pd.read_csv(r'C:\\Users\\deeps\\Desktop\\Final Year Proj\\synthetic\\supplies.csv')"
   ]
  },
  {
   "cell_type": "code",
   "execution_count": 7,
   "id": "bb097530",
   "metadata": {},
   "outputs": [],
   "source": [
    "allergies=allergies.dropna()\n",
    "careplans=careplans.dropna()\n",
    "conditions=conditions.dropna()\n",
    "devices=devices.dropna()\n",
    "encounters=encounters.dropna()\n",
    "imaging_studies=imaging_studies.dropna()\n",
    "immunizations=immunizations.dropna()\n",
    "medications=medications.dropna()\n",
    "observations=observations.dropna()\n",
    "organizations=organizations.dropna()\n",
    "patients=patients.dropna()\n",
    "payer_transitions=payer_transitions.dropna()\n",
    "payers=payers.dropna()\n",
    "procedures=procedures.dropna()\n",
    "providers=providers.dropna()\n",
    "supplies=supplies.dropna()"
   ]
  },
  {
   "cell_type": "code",
   "execution_count": 24,
   "id": "3606720b",
   "metadata": {},
   "outputs": [
    {
     "data": {
      "text/plain": [
       "'1994-05-12'"
      ]
     },
     "execution_count": 24,
     "metadata": {},
     "output_type": "execute_result"
    }
   ],
   "source": [
    "\n",
    "  \n",
    "df = allergies.where(allergies.DESCRIPTION == 'Latex allergy')\n",
    "df=df.dropna()\n"
   ]
  },
  {
   "cell_type": "code",
   "execution_count": 35,
   "id": "63d191cb",
   "metadata": {},
   "outputs": [],
   "source": [
    "def patient_details(Patient_ID):\n",
    "    p_allergies=allergies.where(allergies.PATIENT == str(Patient_ID))\n",
    "    p_careplans=careplans.where(careplans.PATIENT == str(Patient_ID))\n",
    "    p_conditions=conditions.where(conditions.PATIENT == str(Patient_ID))\n",
    "    p_devices=devices.where(devices.PATIENT==str(Patient_ID))\n",
    "    p_encounters=encounters.where(encounters.PATIENT==str(Patient_ID))\n",
    "    p_imaging_studies=imaging_studies.where(imaging_studies.PATIENT==str(Patient_ID))\n",
    "    p_immunizations=immunizations.where(immunizations.PATIENT==str(Patient_ID))\n",
    "    p_medications=medications.where(medications.PATIENT==str(Patient_ID))\n",
    "    p_observations=observations.where(observations.PATIENT==str(Patient_ID))\n",
    "    p_organizations=organizations.where(organizations.Id==str(Patient_ID))\n",
    "    p_patients=patients.where(patients.Id==str(Patient_ID))\n",
    "    p_payer_transitions=payer_transitions.where(payer_transitions.PATIENT==str(Patient_ID))\n",
    "    p_payers=payers.where(payers.Id==str(Patient_ID))\n",
    "    p_procedures=procedures.where(procedures.PATIENT==str(Patient_ID))\n",
    "    p_providers=providers.where(providers.Id==str(Patient_ID))\n",
    "    ############ DROPPING NaN Values ###############\n",
    "    p_allergies=p_allergies.dropna()\n",
    "    p_careplans=p_careplans.dropna()\n",
    "    p_conditions=p_conditions.dropna()\n",
    "    p_devices=p_devices.dropna()\n",
    "    p_encounters=p_encounters.dropna()\n",
    "    p_imaging_studies=p_imaging_studies.dropna()\n",
    "    p_immunizations=p_immunizations.dropna()\n",
    "    p_medications=p_medications.dropna()\n",
    "    p_observations=p_observations.dropna()\n",
    "    p_organizations=p_organizations.dropna()\n",
    "    p_patients=p_patients.dropna()\n",
    "    p_payer_transitions=p_payer_transitions.dropna()\n",
    "    p_payers=p_payers.dropna()\n",
    "    p_procedures=p_procedures.dropna()\n",
    "    p_providers=p_providers.dropna()"
   ]
  },
  {
   "cell_type": "code",
   "execution_count": 36,
   "id": "6f6d4834",
   "metadata": {},
   "outputs": [],
   "source": [
    "patient_details('76982e06-f8b8-4509-9ca3-65a99c8650fe')"
   ]
  },
  {
   "cell_type": "code",
   "execution_count": null,
   "id": "7ca57481",
   "metadata": {},
   "outputs": [],
   "source": []
  }
 ],
 "metadata": {
  "kernelspec": {
   "display_name": "Python 3 (ipykernel)",
   "language": "python",
   "name": "python3"
  },
  "language_info": {
   "codemirror_mode": {
    "name": "ipython",
    "version": 3
   },
   "file_extension": ".py",
   "mimetype": "text/x-python",
   "name": "python",
   "nbconvert_exporter": "python",
   "pygments_lexer": "ipython3",
   "version": "3.9.7"
  }
 },
 "nbformat": 4,
 "nbformat_minor": 5
}
