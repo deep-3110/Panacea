{
 "cells": [
  {
   "cell_type": "code",
   "execution_count": 1,
   "id": "78e9f501",
   "metadata": {},
   "outputs": [],
   "source": [
    "\n",
    "# Importing libraries\n",
    "import numpy as np\n",
    "import pandas as pd\n",
    "from scipy.stats import mode\n",
    "import matplotlib.pyplot as plt\n",
    "import seaborn as sns\n",
    "from sklearn.preprocessing import LabelEncoder\n",
    "from sklearn.model_selection import train_test_split, cross_val_score\n",
    "from sklearn.svm import SVC\n",
    "from sklearn.naive_bayes import GaussianNB\n",
    "from sklearn.ensemble import RandomForestClassifier\n",
    "from sklearn.metrics import accuracy_score, confusion_matrix\n",
    " \n",
    "%matplotlib inline"
   ]
  },
  {
   "cell_type": "code",
   "execution_count": 7,
   "id": "a94bb254",
   "metadata": {},
   "outputs": [],
   "source": [
    "\n",
    "DATA_PATH = \"Training.csv\"\n",
    "data = pd.read_csv(DATA_PATH).dropna(axis = 1)\n",
    "disease_counts = data[\"prognosis\"].value_counts()\n",
    "temp_df = pd.DataFrame({\n",
    "\"Disease\": disease_counts.index,\n",
    "\"Counts\": disease_counts.values})\n",
    "encoder = LabelEncoder()\n",
    "data[\"prognosis\"] = encoder.fit_transform(data[\"prognosis\"])\n",
    "X = data.iloc[:,:-1]\n",
    "y = data.iloc[:, -1]\n",
    "X_train, X_test, y_train, y_test =train_test_split(X, y, test_size = 0.2, random_state = 24)\n",
    "rf_model = RandomForestClassifier(random_state=18)\n",
    "rf_model.fit(X_train, y_train)\n",
    "preds = rf_model.predict(X_test)\n",
    "cf_matrix = confusion_matrix(y_test, preds)\n",
    "final_rf_model = RandomForestClassifier(random_state=18)\n",
    "final_rf_model.fit(X, y)\n",
    "test_data = pd.read_csv(\"Testing.csv\").dropna(axis=1)\n",
    "test_X = test_data.iloc[:, :-1]\n",
    "test_Y = encoder.transform(test_data.iloc[:, -1])\n",
    "rf_preds = final_rf_model.predict(test_X)\n",
    "symptoms = X.columns.values\n",
    "symptom_index = {}\n",
    "for index, value in enumerate(symptoms):\n",
    "    symptom = \" \".join([i.capitalize() for i in value.split(\"_\")])\n",
    "    symptom_index[symptom] = index\n",
    "    data_dict = {\"symptom_index\":symptom_index,\"predictions_classes\":encoder.classes_\n",
    "    }\n",
    "        "
   ]
  },
  {
   "cell_type": "code",
   "execution_count": 13,
   "id": "c11fbbf4",
   "metadata": {},
   "outputs": [
    {
     "name": "stdout",
     "output_type": "stream",
     "text": [
      "{'rf_model_prediction': 'Fungal infection'}\n"
     ]
    }
   ],
   "source": [
    "def predictDisease(symptoms):\n",
    "    symptoms = symptoms.split(\",\")\n",
    "     \n",
    "    # creating input data for the models\n",
    "    input_data = [0] * len(data_dict[\"symptom_index\"])\n",
    "    for symptom in symptoms:\n",
    "        index = data_dict[\"symptom_index\"][symptom]\n",
    "        input_data[index] = 1\n",
    "         \n",
    "    # reshaping the input data and converting it\n",
    "    # into suitable format for model predictions\n",
    "    input_data = np.array(input_data).reshape(1,-1)\n",
    "     \n",
    "    # generating individual outputs\n",
    "    rf_prediction = data_dict[\"predictions_classes\"][final_rf_model.predict(input_data)[0]]\n",
    "      \n",
    "    # making final prediction by taking mode of all predictions\n",
    "    final_prediction =rf_prediction\n",
    "    predictions = {\n",
    "        \"rf_model_prediction\": rf_prediction,\n",
    "        \n",
    "    }\n",
    "    return predictions\n",
    " \n",
    "# Testing the function\n",
    "print(predictDisease(\"Itching,Skin Rash,Nodal Skin Eruptions,Dischromic  Patches\"))"
   ]
  },
  {
   "cell_type": "code",
   "execution_count": null,
   "id": "c5885e12",
   "metadata": {},
   "outputs": [],
   "source": []
  }
 ],
 "metadata": {
  "kernelspec": {
   "display_name": "Python 3",
   "language": "python",
   "name": "python3"
  },
  "language_info": {
   "codemirror_mode": {
    "name": "ipython",
    "version": 3
   },
   "file_extension": ".py",
   "mimetype": "text/x-python",
   "name": "python",
   "nbconvert_exporter": "python",
   "pygments_lexer": "ipython3",
   "version": "3.8.8"
  }
 },
 "nbformat": 4,
 "nbformat_minor": 5
}
