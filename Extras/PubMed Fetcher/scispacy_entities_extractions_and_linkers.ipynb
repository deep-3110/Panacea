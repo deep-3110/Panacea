{
 "cells": [
  {
   "cell_type": "markdown",
   "metadata": {
    "colab_type": "text",
    "id": "d1DoSlz7ZAh7"
   },
   "source": [
    "## Pubmed Abstract Extraction and Entity Recognition"
   ]
  },
  {
   "cell_type": "markdown",
   "metadata": {},
   "source": [
    "#### PubMed Data Extraction"
   ]
  },
  {
   "cell_type": "code",
   "execution_count": 1,
   "metadata": {
    "colab": {},
    "colab_type": "code",
    "id": "RBXisF-EYx4t"
   },
   "outputs": [
    {
     "name": "stderr",
     "output_type": "stream",
     "text": [
      "\u001b[32m2021-10-05 23:13:33\u001b[0m \u001b[35mDeep-Surface-Laptop-3\u001b[0m \u001b[34mmetapub.config[14972]\u001b[0m \u001b[1;30mWARNING\u001b[0m \u001b[33mNCBI_API_KEY was not set.\u001b[0m\n"
     ]
    },
    {
     "name": "stdout",
     "output_type": "stream",
     "text": [
      "BACKGROUND: Apparent diffusion coefficient (ADC) measurements are not incorporated in BI-RADS classification.\n",
      "PURPOSE: To assess the probability of malignancy of breast lesions at magnetic resonance mammography (MRM) at 3 T, by combining ADC measurements with the BI-RADS score, in order to improve the specificity of MRM.\n",
      "MATERIAL AND METHODS: A total of 296 biopsy-proven breast lesions were included in this prospective study. MRM was performed at 3 T, using a standard protocol with dynamic sequence (DCE-MRI) and an extra echo-planar diffusion-weighted sequence. A freehand region of interest was drawn inside the lesion, and ADC values were calculated. Each lesion was categorized according to the BI-RADS classification. Logistic regression analysis was employed to predict the probability of malignancy of a lesion. The model combined the BI-RADS classification and the ADC value. Sensitivity, specificity, positive predictive value, negative predictive value, and diagnostic accuracy were calculated.\n",
      "RESULTS: In total, 153 malignant and 143 benign lesions were analyzed; 257 lesions were masses and 39 lesions were non-mass-like enhancements. The sensitivity and specificity of the combined method were 96% and 86%, respectively, in contrast to 95% and 81% with BI-RADS classification alone.\n",
      "CONCLUSION: We propose a method of assessing the probability of malignancy in breast lesions by combining BI-RADS score and ADC values into a single formula, increasing sensitivity and specificity compared to BI-RADS classification alone.\n"
     ]
    }
   ],
   "source": [
    "#pip install metapub  https://pypi.org/project/metapub/\n",
    "from metapub import PubMedFetcher\n",
    "fetch = PubMedFetcher()\n",
    "\n",
    "# get the first 10 pmids matching \"breast neoplasm\" keyword search\n",
    "pmids = fetch.pmids_for_query('breast neoplasm', retmax=10)\n",
    "\n",
    "# get abstract for each article:\n",
    "abstracts = []\n",
    "authorname={}\n",
    "for pmid in pmids:\n",
    "    abstracts.append(fetch.article_by_pmid(pmid).abstract)\n",
    "    authorname[pmid]=fetch.article_by_pmid(pmid).authors\n",
    "\n",
    "#print(article.title)\n",
    "#print(article.journal, article.year, article.volume, article.issue)\n",
    "#print(article.authors)\n",
    "#print(article.citation)\n",
    "print(abstracts[0])\n",
    "#print(authorname)\n",
    "import warnings\n",
    "warnings.filterwarnings('ignore')\n",
    "warnings.simplefilter('ignore')\n"
   ]
  },
  {
   "cell_type": "markdown",
   "metadata": {},
   "source": [
    "#### Installing modules and Model - Don't Run this Cell if already installed"
   ]
  },
  {
   "cell_type": "code",
   "execution_count": 2,
   "metadata": {
    "colab": {},
    "colab_type": "code",
    "id": "jPvIMB9HlHma"
   },
   "outputs": [
    {
     "name": "stdout",
     "output_type": "stream",
     "text": [
      "Requirement already satisfied: scispacy in c:\\users\\deeps\\anaconda3\\lib\\site-packages (0.4.0)\n",
      "Requirement already satisfied: joblib in c:\\users\\deeps\\anaconda3\\lib\\site-packages (from scispacy) (1.0.1)\n",
      "Requirement already satisfied: nmslib>=1.7.3.6 in c:\\users\\deeps\\anaconda3\\lib\\site-packages (from scispacy) (2.1.1)\n",
      "Requirement already satisfied: scikit-learn>=0.20.3 in c:\\users\\deeps\\anaconda3\\lib\\site-packages (from scispacy) (0.24.1)\n",
      "Requirement already satisfied: spacy<3.1.0,>=3.0.0 in c:\\users\\deeps\\anaconda3\\lib\\site-packages (from scispacy) (3.0.7)\n",
      "Requirement already satisfied: conllu in c:\\users\\deeps\\anaconda3\\lib\\site-packages (from scispacy) (4.4.1)\n",
      "Requirement already satisfied: numpy in c:\\users\\deeps\\anaconda3\\lib\\site-packages (from scispacy) (1.21.2)\n",
      "Requirement already satisfied: pysbd in c:\\users\\deeps\\anaconda3\\lib\\site-packages (from scispacy) (0.3.4)\n",
      "Requirement already satisfied: requests<3.0.0,>=2.0.0 in c:\\users\\deeps\\anaconda3\\lib\\site-packages (from scispacy) (2.25.1)\n",
      "Requirement already satisfied: psutil in c:\\users\\deeps\\anaconda3\\lib\\site-packages (from nmslib>=1.7.3.6->scispacy) (5.8.0)\n",
      "Requirement already satisfied: pybind11<2.6.2 in c:\\users\\deeps\\anaconda3\\lib\\site-packages (from nmslib>=1.7.3.6->scispacy) (2.6.1)\n",
      "Requirement already satisfied: chardet<5,>=3.0.2 in c:\\users\\deeps\\anaconda3\\lib\\site-packages (from requests<3.0.0,>=2.0.0->scispacy) (4.0.0)\n",
      "Requirement already satisfied: idna<3,>=2.5 in c:\\users\\deeps\\anaconda3\\lib\\site-packages (from requests<3.0.0,>=2.0.0->scispacy) (2.10)\n",
      "Requirement already satisfied: urllib3<1.27,>=1.21.1 in c:\\users\\deeps\\anaconda3\\lib\\site-packages (from requests<3.0.0,>=2.0.0->scispacy) (1.26.4)\n",
      "Requirement already satisfied: certifi>=2017.4.17 in c:\\users\\deeps\\anaconda3\\lib\\site-packages (from requests<3.0.0,>=2.0.0->scispacy) (2020.12.5)\n",
      "Requirement already satisfied: scipy>=0.19.1 in c:\\users\\deeps\\anaconda3\\lib\\site-packages (from scikit-learn>=0.20.3->scispacy) (1.6.2)\n",
      "Requirement already satisfied: threadpoolctl>=2.0.0 in c:\\users\\deeps\\anaconda3\\lib\\site-packages (from scikit-learn>=0.20.3->scispacy) (2.1.0)\n",
      "Requirement already satisfied: thinc<8.1.0,>=8.0.3 in c:\\users\\deeps\\anaconda3\\lib\\site-packages (from spacy<3.1.0,>=3.0.0->scispacy) (8.0.10)\n",
      "Requirement already satisfied: catalogue<2.1.0,>=2.0.4 in c:\\users\\deeps\\anaconda3\\lib\\site-packages (from spacy<3.1.0,>=3.0.0->scispacy) (2.0.6)\n",
      "Requirement already satisfied: tqdm<5.0.0,>=4.38.0 in c:\\users\\deeps\\anaconda3\\lib\\site-packages (from spacy<3.1.0,>=3.0.0->scispacy) (4.59.0)\n",
      "Requirement already satisfied: pathy>=0.3.5 in c:\\users\\deeps\\anaconda3\\lib\\site-packages (from spacy<3.1.0,>=3.0.0->scispacy) (0.6.0)\n",
      "Requirement already satisfied: typer<0.4.0,>=0.3.0 in c:\\users\\deeps\\anaconda3\\lib\\site-packages (from spacy<3.1.0,>=3.0.0->scispacy) (0.3.2)\n",
      "Requirement already satisfied: srsly<3.0.0,>=2.4.1 in c:\\users\\deeps\\anaconda3\\lib\\site-packages (from spacy<3.1.0,>=3.0.0->scispacy) (2.4.1)\n",
      "Requirement already satisfied: setuptools in c:\\users\\deeps\\anaconda3\\lib\\site-packages (from spacy<3.1.0,>=3.0.0->scispacy) (58.1.0)\n",
      "Requirement already satisfied: preshed<3.1.0,>=3.0.2 in c:\\users\\deeps\\anaconda3\\lib\\site-packages (from spacy<3.1.0,>=3.0.0->scispacy) (3.0.5)\n",
      "Requirement already satisfied: spacy-legacy<3.1.0,>=3.0.5 in c:\\users\\deeps\\anaconda3\\lib\\site-packages (from spacy<3.1.0,>=3.0.0->scispacy) (3.0.8)\n",
      "Requirement already satisfied: wasabi<1.1.0,>=0.8.1 in c:\\users\\deeps\\anaconda3\\lib\\site-packages (from spacy<3.1.0,>=3.0.0->scispacy) (0.8.2)\n",
      "Requirement already satisfied: blis<0.8.0,>=0.4.0 in c:\\users\\deeps\\anaconda3\\lib\\site-packages (from spacy<3.1.0,>=3.0.0->scispacy) (0.7.4)\n",
      "Requirement already satisfied: jinja2 in c:\\users\\deeps\\anaconda3\\lib\\site-packages (from spacy<3.1.0,>=3.0.0->scispacy) (2.11.3)\n",
      "Requirement already satisfied: cymem<2.1.0,>=2.0.2 in c:\\users\\deeps\\anaconda3\\lib\\site-packages (from spacy<3.1.0,>=3.0.0->scispacy) (2.0.5)\n",
      "Requirement already satisfied: pydantic!=1.8,!=1.8.1,<1.9.0,>=1.7.4 in c:\\users\\deeps\\anaconda3\\lib\\site-packages (from spacy<3.1.0,>=3.0.0->scispacy) (1.8.2)\n",
      "Requirement already satisfied: murmurhash<1.1.0,>=0.28.0 in c:\\users\\deeps\\anaconda3\\lib\\site-packages (from spacy<3.1.0,>=3.0.0->scispacy) (1.0.5)\n",
      "Requirement already satisfied: packaging>=20.0 in c:\\users\\deeps\\anaconda3\\lib\\site-packages (from spacy<3.1.0,>=3.0.0->scispacy) (20.9)\n",
      "Requirement already satisfied: pyparsing>=2.0.2 in c:\\users\\deeps\\anaconda3\\lib\\site-packages (from packaging>=20.0->spacy<3.1.0,>=3.0.0->scispacy) (2.4.7)\n",
      "Requirement already satisfied: smart-open<6.0.0,>=5.0.0 in c:\\users\\deeps\\anaconda3\\lib\\site-packages (from pathy>=0.3.5->spacy<3.1.0,>=3.0.0->scispacy) (5.2.1)\n",
      "Requirement already satisfied: typing-extensions>=3.7.4.3 in c:\\users\\deeps\\anaconda3\\lib\\site-packages (from pydantic!=1.8,!=1.8.1,<1.9.0,>=1.7.4->spacy<3.1.0,>=3.0.0->scispacy) (3.7.4.3)\n",
      "Requirement already satisfied: click<7.2.0,>=7.1.1 in c:\\users\\deeps\\anaconda3\\lib\\site-packages (from typer<0.4.0,>=0.3.0->spacy<3.1.0,>=3.0.0->scispacy) (7.1.2)\n",
      "Requirement already satisfied: MarkupSafe>=0.23 in c:\\users\\deeps\\anaconda3\\lib\\site-packages (from jinja2->spacy<3.1.0,>=3.0.0->scispacy) (1.1.1)\n",
      "Requirement already satisfied: swifter in c:\\users\\deeps\\anaconda3\\lib\\site-packages (1.0.9)\n",
      "Requirement already satisfied: bleach>=3.1.1 in c:\\users\\deeps\\anaconda3\\lib\\site-packages (from swifter) (3.3.0)\n",
      "Requirement already satisfied: pandas>=1.0.0 in c:\\users\\deeps\\anaconda3\\lib\\site-packages (from swifter) (1.3.3)\n",
      "Requirement already satisfied: ipywidgets>=7.0.0 in c:\\users\\deeps\\anaconda3\\lib\\site-packages (from swifter) (7.6.3)\n",
      "Requirement already satisfied: cloudpickle>=0.2.2 in c:\\users\\deeps\\anaconda3\\lib\\site-packages (from swifter) (1.6.0)\n",
      "Requirement already satisfied: dask[dataframe]>=2.10.0 in c:\\users\\deeps\\anaconda3\\lib\\site-packages (from swifter) (2021.4.0)\n",
      "Requirement already satisfied: tqdm>=4.33.0 in c:\\users\\deeps\\anaconda3\\lib\\site-packages (from swifter) (4.59.0)\n",
      "Requirement already satisfied: parso>0.4.0 in c:\\users\\deeps\\anaconda3\\lib\\site-packages (from swifter) (0.8.2)\n",
      "Requirement already satisfied: psutil>=5.6.6 in c:\\users\\deeps\\anaconda3\\lib\\site-packages (from swifter) (5.8.0)\n",
      "Requirement already satisfied: six>=1.9.0 in c:\\users\\deeps\\anaconda3\\lib\\site-packages (from bleach>=3.1.1->swifter) (1.16.0)\n",
      "Requirement already satisfied: webencodings in c:\\users\\deeps\\anaconda3\\lib\\site-packages (from bleach>=3.1.1->swifter) (0.5.1)\n",
      "Requirement already satisfied: packaging in c:\\users\\deeps\\anaconda3\\lib\\site-packages (from bleach>=3.1.1->swifter) (20.9)\n",
      "Requirement already satisfied: toolz>=0.8.2 in c:\\users\\deeps\\anaconda3\\lib\\site-packages (from dask[dataframe]>=2.10.0->swifter) (0.11.1)\n",
      "Requirement already satisfied: pyyaml in c:\\users\\deeps\\anaconda3\\lib\\site-packages (from dask[dataframe]>=2.10.0->swifter) (5.4.1)\n",
      "Requirement already satisfied: fsspec>=0.6.0 in c:\\users\\deeps\\anaconda3\\lib\\site-packages (from dask[dataframe]>=2.10.0->swifter) (0.9.0)\n",
      "Requirement already satisfied: partd>=0.3.10 in c:\\users\\deeps\\anaconda3\\lib\\site-packages (from dask[dataframe]>=2.10.0->swifter) (1.2.0)\n",
      "Requirement already satisfied: numpy>=1.16 in c:\\users\\deeps\\anaconda3\\lib\\site-packages (from dask[dataframe]>=2.10.0->swifter) (1.21.2)\n",
      "Requirement already satisfied: traitlets>=4.3.1 in c:\\users\\deeps\\anaconda3\\lib\\site-packages (from ipywidgets>=7.0.0->swifter) (5.1.0)\n",
      "Requirement already satisfied: ipykernel>=4.5.1 in c:\\users\\deeps\\anaconda3\\lib\\site-packages (from ipywidgets>=7.0.0->swifter) (5.3.4)\n",
      "Requirement already satisfied: jupyterlab-widgets>=1.0.0 in c:\\users\\deeps\\anaconda3\\lib\\site-packages (from ipywidgets>=7.0.0->swifter) (1.0.0)\n",
      "Requirement already satisfied: widgetsnbextension~=3.5.0 in c:\\users\\deeps\\anaconda3\\lib\\site-packages (from ipywidgets>=7.0.0->swifter) (3.5.1)\n",
      "Requirement already satisfied: nbformat>=4.2.0 in c:\\users\\deeps\\anaconda3\\lib\\site-packages (from ipywidgets>=7.0.0->swifter) (5.1.3)\n",
      "Requirement already satisfied: ipython>=4.0.0 in c:\\users\\deeps\\anaconda3\\lib\\site-packages (from ipywidgets>=7.0.0->swifter) (7.27.0)\n",
      "Requirement already satisfied: tornado>=4.2 in c:\\users\\deeps\\anaconda3\\lib\\site-packages (from ipykernel>=4.5.1->ipywidgets>=7.0.0->swifter) (6.1)\n",
      "Requirement already satisfied: jupyter-client in c:\\users\\deeps\\anaconda3\\lib\\site-packages (from ipykernel>=4.5.1->ipywidgets>=7.0.0->swifter) (6.1.12)\n",
      "Requirement already satisfied: pygments in c:\\users\\deeps\\anaconda3\\lib\\site-packages (from ipython>=4.0.0->ipywidgets>=7.0.0->swifter) (2.10.0)\n",
      "Requirement already satisfied: decorator in c:\\users\\deeps\\anaconda3\\lib\\site-packages (from ipython>=4.0.0->ipywidgets>=7.0.0->swifter) (5.1.0)\n",
      "Requirement already satisfied: matplotlib-inline in c:\\users\\deeps\\anaconda3\\lib\\site-packages (from ipython>=4.0.0->ipywidgets>=7.0.0->swifter) (0.1.3)\n",
      "Requirement already satisfied: jedi>=0.16 in c:\\users\\deeps\\anaconda3\\lib\\site-packages (from ipython>=4.0.0->ipywidgets>=7.0.0->swifter) (0.18.0)\n",
      "Requirement already satisfied: prompt-toolkit!=3.0.0,!=3.0.1,<3.1.0,>=2.0.0 in c:\\users\\deeps\\anaconda3\\lib\\site-packages (from ipython>=4.0.0->ipywidgets>=7.0.0->swifter) (3.0.20)\n",
      "Requirement already satisfied: colorama in c:\\users\\deeps\\anaconda3\\lib\\site-packages (from ipython>=4.0.0->ipywidgets>=7.0.0->swifter) (0.4.4)\n"
     ]
    },
    {
     "name": "stdout",
     "output_type": "stream",
     "text": [
      "Requirement already satisfied: pickleshare in c:\\users\\deeps\\anaconda3\\lib\\site-packages (from ipython>=4.0.0->ipywidgets>=7.0.0->swifter) (0.7.5)\n",
      "Requirement already satisfied: backcall in c:\\users\\deeps\\anaconda3\\lib\\site-packages (from ipython>=4.0.0->ipywidgets>=7.0.0->swifter) (0.2.0)\n",
      "Requirement already satisfied: setuptools>=18.5 in c:\\users\\deeps\\anaconda3\\lib\\site-packages (from ipython>=4.0.0->ipywidgets>=7.0.0->swifter) (58.1.0)\n",
      "Requirement already satisfied: jupyter-core in c:\\users\\deeps\\anaconda3\\lib\\site-packages (from nbformat>=4.2.0->ipywidgets>=7.0.0->swifter) (4.7.1)\n",
      "Requirement already satisfied: jsonschema!=2.5.0,>=2.4 in c:\\users\\deeps\\anaconda3\\lib\\site-packages (from nbformat>=4.2.0->ipywidgets>=7.0.0->swifter) (3.2.0)\n",
      "Requirement already satisfied: ipython-genutils in c:\\users\\deeps\\anaconda3\\lib\\site-packages (from nbformat>=4.2.0->ipywidgets>=7.0.0->swifter) (0.2.0)\n",
      "Requirement already satisfied: attrs>=17.4.0 in c:\\users\\deeps\\anaconda3\\lib\\site-packages (from jsonschema!=2.5.0,>=2.4->nbformat>=4.2.0->ipywidgets>=7.0.0->swifter) (20.3.0)\n",
      "Requirement already satisfied: pyrsistent>=0.14.0 in c:\\users\\deeps\\anaconda3\\lib\\site-packages (from jsonschema!=2.5.0,>=2.4->nbformat>=4.2.0->ipywidgets>=7.0.0->swifter) (0.17.3)\n",
      "Requirement already satisfied: python-dateutil>=2.7.3 in c:\\users\\deeps\\anaconda3\\lib\\site-packages (from pandas>=1.0.0->swifter) (2.8.2)\n",
      "Requirement already satisfied: pytz>=2017.3 in c:\\users\\deeps\\anaconda3\\lib\\site-packages (from pandas>=1.0.0->swifter) (2021.1)\n",
      "Requirement already satisfied: locket in c:\\users\\deeps\\anaconda3\\lib\\site-packages\\locket-0.2.1-py3.8.egg (from partd>=0.3.10->dask[dataframe]>=2.10.0->swifter) (0.2.1)\n",
      "Requirement already satisfied: wcwidth in c:\\users\\deeps\\anaconda3\\lib\\site-packages (from prompt-toolkit!=3.0.0,!=3.0.1,<3.1.0,>=2.0.0->ipython>=4.0.0->ipywidgets>=7.0.0->swifter) (0.2.5)\n",
      "Requirement already satisfied: notebook>=4.4.1 in c:\\users\\deeps\\anaconda3\\lib\\site-packages (from widgetsnbextension~=3.5.0->ipywidgets>=7.0.0->swifter) (6.3.0)\n",
      "Requirement already satisfied: Send2Trash>=1.5.0 in c:\\users\\deeps\\anaconda3\\lib\\site-packages (from notebook>=4.4.1->widgetsnbextension~=3.5.0->ipywidgets>=7.0.0->swifter) (1.5.0)\n",
      "Requirement already satisfied: jinja2 in c:\\users\\deeps\\anaconda3\\lib\\site-packages (from notebook>=4.4.1->widgetsnbextension~=3.5.0->ipywidgets>=7.0.0->swifter) (2.11.3)\n",
      "Requirement already satisfied: argon2-cffi in c:\\users\\deeps\\anaconda3\\lib\\site-packages (from notebook>=4.4.1->widgetsnbextension~=3.5.0->ipywidgets>=7.0.0->swifter) (20.1.0)\n",
      "Requirement already satisfied: pyzmq>=17 in c:\\users\\deeps\\anaconda3\\lib\\site-packages (from notebook>=4.4.1->widgetsnbextension~=3.5.0->ipywidgets>=7.0.0->swifter) (20.0.0)\n",
      "Requirement already satisfied: prometheus-client in c:\\users\\deeps\\anaconda3\\lib\\site-packages (from notebook>=4.4.1->widgetsnbextension~=3.5.0->ipywidgets>=7.0.0->swifter) (0.10.1)\n",
      "Requirement already satisfied: terminado>=0.8.3 in c:\\users\\deeps\\anaconda3\\lib\\site-packages (from notebook>=4.4.1->widgetsnbextension~=3.5.0->ipywidgets>=7.0.0->swifter) (0.9.4)\n",
      "Requirement already satisfied: nbconvert in c:\\users\\deeps\\anaconda3\\lib\\site-packages (from notebook>=4.4.1->widgetsnbextension~=3.5.0->ipywidgets>=7.0.0->swifter) (6.0.7)\n",
      "Requirement already satisfied: pywin32>=1.0 in c:\\users\\deeps\\anaconda3\\lib\\site-packages (from jupyter-core->nbformat>=4.2.0->ipywidgets>=7.0.0->swifter) (227)\n",
      "Requirement already satisfied: pywinpty>=0.5 in c:\\users\\deeps\\anaconda3\\lib\\site-packages (from terminado>=0.8.3->notebook>=4.4.1->widgetsnbextension~=3.5.0->ipywidgets>=7.0.0->swifter) (0.5.7)\n",
      "Requirement already satisfied: cffi>=1.0.0 in c:\\users\\deeps\\anaconda3\\lib\\site-packages (from argon2-cffi->notebook>=4.4.1->widgetsnbextension~=3.5.0->ipywidgets>=7.0.0->swifter) (1.14.5)\n",
      "Requirement already satisfied: pycparser in c:\\users\\deeps\\anaconda3\\lib\\site-packages (from cffi>=1.0.0->argon2-cffi->notebook>=4.4.1->widgetsnbextension~=3.5.0->ipywidgets>=7.0.0->swifter) (2.20)\n",
      "Requirement already satisfied: MarkupSafe>=0.23 in c:\\users\\deeps\\anaconda3\\lib\\site-packages (from jinja2->notebook>=4.4.1->widgetsnbextension~=3.5.0->ipywidgets>=7.0.0->swifter) (1.1.1)\n",
      "Requirement already satisfied: nbclient<0.6.0,>=0.5.0 in c:\\users\\deeps\\anaconda3\\lib\\site-packages (from nbconvert->notebook>=4.4.1->widgetsnbextension~=3.5.0->ipywidgets>=7.0.0->swifter) (0.5.3)\n",
      "Requirement already satisfied: mistune<2,>=0.8.1 in c:\\users\\deeps\\anaconda3\\lib\\site-packages (from nbconvert->notebook>=4.4.1->widgetsnbextension~=3.5.0->ipywidgets>=7.0.0->swifter) (0.8.4)\n",
      "Requirement already satisfied: jupyterlab-pygments in c:\\users\\deeps\\anaconda3\\lib\\site-packages (from nbconvert->notebook>=4.4.1->widgetsnbextension~=3.5.0->ipywidgets>=7.0.0->swifter) (0.1.2)\n",
      "Requirement already satisfied: defusedxml in c:\\users\\deeps\\anaconda3\\lib\\site-packages (from nbconvert->notebook>=4.4.1->widgetsnbextension~=3.5.0->ipywidgets>=7.0.0->swifter) (0.7.1)\n",
      "Requirement already satisfied: pandocfilters>=1.4.1 in c:\\users\\deeps\\anaconda3\\lib\\site-packages (from nbconvert->notebook>=4.4.1->widgetsnbextension~=3.5.0->ipywidgets>=7.0.0->swifter) (1.4.3)\n",
      "Requirement already satisfied: testpath in c:\\users\\deeps\\anaconda3\\lib\\site-packages (from nbconvert->notebook>=4.4.1->widgetsnbextension~=3.5.0->ipywidgets>=7.0.0->swifter) (0.4.4)\n",
      "Requirement already satisfied: entrypoints>=0.2.2 in c:\\users\\deeps\\anaconda3\\lib\\site-packages (from nbconvert->notebook>=4.4.1->widgetsnbextension~=3.5.0->ipywidgets>=7.0.0->swifter) (0.3)\n",
      "Requirement already satisfied: async-generator in c:\\users\\deeps\\anaconda3\\lib\\site-packages (from nbclient<0.6.0,>=0.5.0->nbconvert->notebook>=4.4.1->widgetsnbextension~=3.5.0->ipywidgets>=7.0.0->swifter) (1.10)\n",
      "Requirement already satisfied: nest-asyncio in c:\\users\\deeps\\anaconda3\\lib\\site-packages (from nbclient<0.6.0,>=0.5.0->nbconvert->notebook>=4.4.1->widgetsnbextension~=3.5.0->ipywidgets>=7.0.0->swifter) (1.5.1)\n",
      "Requirement already satisfied: pyparsing>=2.0.2 in c:\\users\\deeps\\anaconda3\\lib\\site-packages (from packaging->bleach>=3.1.1->swifter) (2.4.7)\n"
     ]
    },
    {
     "name": "stderr",
     "output_type": "stream",
     "text": [
      "ERROR: Invalid requirement: '#scispacy'\n",
      "ERROR: Invalid requirement: '#scispacy'\n",
      "ERROR: Invalid requirement: '#biomedical'\n",
      "ERROR: Invalid requirement: '#biomedical'\n",
      "ERROR: Invalid requirement: '#biomedical'\n",
      "ERROR: Invalid requirement: '#biomedical'\n"
     ]
    }
   ],
   "source": [
    "!pip install scispacy\n",
    "!pip install swifter\n",
    "!pip install https://s3-us-west-2.amazonaws.com/ai2-s2-scispacy/releases/v0.4.0/en_core_sci_sm-0.4.0.tar.gz      #scispacy medium model\n",
    "!pip install https://s3-us-west-2.amazonaws.com/ai2-s2-scispacy/releases/v0.4.0/en_core_sci_md-0.4.0.tar.gz      #scispacy medium model\n",
    "!pip install https://s3-us-west-2.amazonaws.com/ai2-s2-scispacy/releases/v0.4.0/en_ner_bc5cdr_md-0.4.0.tar.gz  #biomedical NER model trained on BC5CDR corpus\n",
    "!pip install https://s3-us-west-2.amazonaws.com/ai2-s2-scispacy/releases/v0.4.0/en_ner_bionlp13cg_md-0.4.0.tar.gz  #biomedical NER model trained on BIONLP13CG corpus\n",
    "!pip install https://s3-us-west-2.amazonaws.com/ai2-s2-scispacy/releases/v0.4.0/en_ner_craft_md-0.4.0.tar.gz    #biomedical NER model trained on CRAFT corpus\n",
    "!pip install https://s3-us-west-2.amazonaws.com/ai2-s2-scispacy/releases/v0.4.0/en_ner_jnlpba_md-0.4.0.tar.gz     #biomedical NER model trained on JNLPBA corpus"
   ]
  },
  {
   "cell_type": "code",
   "execution_count": 5,
   "metadata": {
    "colab": {},
    "colab_type": "code",
    "id": "Yfwmr_KPnz-b"
   },
   "outputs": [],
   "source": [
    "import spacy\n",
    "import scispacy\n",
    "import swifter\n",
    "import pandas as pd\n",
    "from spacy import displacy\n",
    "import en_core_sci_sm\n",
    "#import en_core_sci_md\n",
    "# import en_ner_bc5cdr_md\n",
    "# import en_ner_jnlpba_md\n",
    "# import en_ner_craft_md\n",
    "# import en_ner_bionlp13cg_md\n",
    "from scispacy.abbreviation import AbbreviationDetector\n",
    "from scispacy.linking import EntityLinker\n",
    "from collections import OrderedDict,Counter\n",
    "from pprint import pprint\n",
    "from tqdm import tqdm\n",
    "tqdm.pandas()"
   ]
  },
  {
   "cell_type": "code",
   "execution_count": 11,
   "metadata": {
    "colab": {},
    "colab_type": "code",
    "id": "Qsj-NWy1lJIO"
   },
   "outputs": [
    {
     "data": {
      "text/plain": [
       "'BACKGROUND: Apparent diffusion coefficient (ADC) measurements are not incorporated in BI-RADS classification.\\nPURPOSE: To assess the probability of malignancy of breast lesions at magnetic resonance mammography (MRM) at 3 T, by combining ADC measurements with the BI-RADS score, in order to improve the specificity of MRM.\\nMATERIAL AND METHODS: A total of 296 biopsy-proven breast lesions were included in this prospective study. MRM was performed at 3 T, using a standard protocol with dynamic sequence (DCE-MRI) and an extra echo-planar diffusion-weighted sequence. A freehand region of interest was drawn inside the lesion, and ADC values were calculated. Each lesion was categorized according to the BI-RADS classification. Logistic regression analysis was employed to predict the probability of malignancy of a lesion. The model combined the BI-RADS classification and the ADC value. Sensitivity, specificity, positive predictive value, negative predictive value, and diagnostic accuracy were calculated.\\nRESULTS: In total, 153 malignant and 143 benign lesions were analyzed; 257 lesions were masses and 39 lesions were non-mass-like enhancements. The sensitivity and specificity of the combined method were 96% and 86%, respectively, in contrast to 95% and 81% with BI-RADS classification alone.\\nCONCLUSION: We propose a method of assessing the probability of malignancy in breast lesions by combining BI-RADS score and ADC values into a single formula, increasing sensitivity and specificity compared to BI-RADS classification alone.'"
      ]
     },
     "execution_count": 11,
     "metadata": {},
     "output_type": "execute_result"
    }
   ],
   "source": [
    "sample_text=abstracts[0]\n",
    "sample_text"
   ]
  },
  {
   "cell_type": "code",
   "execution_count": 27,
   "metadata": {},
   "outputs": [],
   "source": [
    "#### Display Entities Function"
   ]
  },
  {
   "cell_type": "code",
   "execution_count": 28,
   "metadata": {
    "colab": {},
    "colab_type": "code",
    "id": "gXJEXmcGyZsM"
   },
   "outputs": [],
   "source": [
    "def display_entities(model,document):\n",
    "    \"\"\" A function that returns a tuple of displacy image of named or unnamed word entities and\n",
    "        a set of unique entities recognized based on scispacy model in use\n",
    "        Args: \n",
    "            model: A pretrained model from spaCy or ScispaCy\n",
    "            document: text data to be analysed\"\"\"\n",
    "    nlp = model.load()\n",
    "    doc = nlp(document)\n",
    "    displacy_image = displacy.render(doc, jupyter=True,style='ent')\n",
    "    entity_and_label = set([(X.text, X.label_) for X in doc.ents])\n",
    "    return  displacy_image, entity_and_label"
   ]
  },
  {
   "cell_type": "markdown",
   "metadata": {},
   "source": [
    "#### Running en_ner_bc5dr_md Model"
   ]
  },
  {
   "cell_type": "code",
   "execution_count": 14,
   "metadata": {
    "colab": {},
    "colab_type": "code",
    "id": "Nh98GbaDyErw"
   },
   "outputs": [
    {
     "data": {
      "text/html": [
       "<span class=\"tex2jax_ignore\"><div class=\"entities\" style=\"line-height: 2.5; direction: ltr\">BACKGROUND: Apparent diffusion coefficient (ADC) measurements are not incorporated in BI-RADS classification.</br>PURPOSE: To assess the probability of \n",
       "<mark class=\"entity\" style=\"background: #ddd; padding: 0.45em 0.6em; margin: 0 0.25em; line-height: 1; border-radius: 0.35em;\">\n",
       "    malignancy\n",
       "    <span style=\"font-size: 0.8em; font-weight: bold; line-height: 1; border-radius: 0.35em; vertical-align: middle; margin-left: 0.5rem\">DISEASE</span>\n",
       "</mark>\n",
       " of \n",
       "<mark class=\"entity\" style=\"background: #ddd; padding: 0.45em 0.6em; margin: 0 0.25em; line-height: 1; border-radius: 0.35em;\">\n",
       "    breast lesions\n",
       "    <span style=\"font-size: 0.8em; font-weight: bold; line-height: 1; border-radius: 0.35em; vertical-align: middle; margin-left: 0.5rem\">DISEASE</span>\n",
       "</mark>\n",
       " at magnetic resonance mammography (MRM) at 3 T, by combining ADC measurements with the BI-RADS score, in order to improve the specificity of MRM.</br>MATERIAL AND METHODS: A total of 296 biopsy-proven \n",
       "<mark class=\"entity\" style=\"background: #ddd; padding: 0.45em 0.6em; margin: 0 0.25em; line-height: 1; border-radius: 0.35em;\">\n",
       "    breast lesions\n",
       "    <span style=\"font-size: 0.8em; font-weight: bold; line-height: 1; border-radius: 0.35em; vertical-align: middle; margin-left: 0.5rem\">DISEASE</span>\n",
       "</mark>\n",
       " were included in this prospective study. MRM was performed at 3 T, using a standard protocol with dynamic sequence (DCE-MRI) and an extra echo-planar diffusion-weighted sequence. A freehand region of interest was drawn inside the lesion, and ADC values were calculated. Each lesion was categorized according to the BI-RADS classification. Logistic regression analysis was employed to predict the probability of \n",
       "<mark class=\"entity\" style=\"background: #ddd; padding: 0.45em 0.6em; margin: 0 0.25em; line-height: 1; border-radius: 0.35em;\">\n",
       "    malignancy\n",
       "    <span style=\"font-size: 0.8em; font-weight: bold; line-height: 1; border-radius: 0.35em; vertical-align: middle; margin-left: 0.5rem\">DISEASE</span>\n",
       "</mark>\n",
       " of a lesion. The model combined the BI-RADS classification and the ADC value. Sensitivity, specificity, positive predictive value, negative predictive value, and diagnostic accuracy were calculated.</br>RESULTS: In total, 153 malignant and 143 benign lesions were analyzed; 257 lesions were masses and 39 lesions were non-mass-like enhancements. The sensitivity and specificity of the combined method were 96% and 86%, respectively, in contrast to 95% and 81% with BI-RADS classification alone.</br>CONCLUSION: We propose a method of assessing the probability of \n",
       "<mark class=\"entity\" style=\"background: #ddd; padding: 0.45em 0.6em; margin: 0 0.25em; line-height: 1; border-radius: 0.35em;\">\n",
       "    malignancy\n",
       "    <span style=\"font-size: 0.8em; font-weight: bold; line-height: 1; border-radius: 0.35em; vertical-align: middle; margin-left: 0.5rem\">DISEASE</span>\n",
       "</mark>\n",
       " in \n",
       "<mark class=\"entity\" style=\"background: #ddd; padding: 0.45em 0.6em; margin: 0 0.25em; line-height: 1; border-radius: 0.35em;\">\n",
       "    breast lesions\n",
       "    <span style=\"font-size: 0.8em; font-weight: bold; line-height: 1; border-radius: 0.35em; vertical-align: middle; margin-left: 0.5rem\">DISEASE</span>\n",
       "</mark>\n",
       " by combining BI-RADS score and ADC values into a single formula, increasing sensitivity and specificity compared to BI-RADS classification alone.</div></span>"
      ],
      "text/plain": [
       "<IPython.core.display.HTML object>"
      ]
     },
     "metadata": {},
     "output_type": "display_data"
    }
   ],
   "source": [
    "#!pip install https://s3-us-west-2.amazonaws.com/ai2-s2-scispacy/releases/v0.4.0/en_ner_bc5cdr_md-0.4.0.tar.gz\n",
    "bc5dr_entities = display_entities(en_ner_bc5cdr_md,sample_text)"
   ]
  },
  {
   "cell_type": "code",
   "execution_count": 15,
   "metadata": {
    "colab": {},
    "colab_type": "code",
    "id": "3gm2zsG94RTm"
   },
   "outputs": [
    {
     "data": {
      "text/html": [
       "<div>\n",
       "<style scoped>\n",
       "    .dataframe tbody tr th:only-of-type {\n",
       "        vertical-align: middle;\n",
       "    }\n",
       "\n",
       "    .dataframe tbody tr th {\n",
       "        vertical-align: top;\n",
       "    }\n",
       "\n",
       "    .dataframe thead th {\n",
       "        text-align: right;\n",
       "    }\n",
       "</style>\n",
       "<table border=\"1\" class=\"dataframe\">\n",
       "  <thead>\n",
       "    <tr style=\"text-align: right;\">\n",
       "      <th></th>\n",
       "      <th>Entity</th>\n",
       "      <th>Label</th>\n",
       "      <th>Ner_model</th>\n",
       "    </tr>\n",
       "  </thead>\n",
       "  <tbody>\n",
       "    <tr>\n",
       "      <th>0</th>\n",
       "      <td>breast lesions</td>\n",
       "      <td>DISEASE</td>\n",
       "      <td>bc5dr</td>\n",
       "    </tr>\n",
       "    <tr>\n",
       "      <th>1</th>\n",
       "      <td>malignancy</td>\n",
       "      <td>DISEASE</td>\n",
       "      <td>bc5dr</td>\n",
       "    </tr>\n",
       "  </tbody>\n",
       "</table>\n",
       "</div>"
      ],
      "text/plain": [
       "           Entity    Label Ner_model\n",
       "0  breast lesions  DISEASE     bc5dr\n",
       "1      malignancy  DISEASE     bc5dr"
      ]
     },
     "execution_count": 15,
     "metadata": {},
     "output_type": "execute_result"
    }
   ],
   "source": [
    "bc5dr_entities_dataframe = pd.DataFrame(bc5dr_entities[1],columns=['Entity','Label'])  #save returned values of entities and their labels in a pandas dataframe\n",
    "bc5dr_entities_dataframe['Ner_model'] = 'bc5dr'  #include a column with constant value of NER model\n",
    "bc5dr_entities_dataframe"
   ]
  },
  {
   "cell_type": "markdown",
   "metadata": {},
   "source": [
    "#### Running en_ner_bionlp13cg_md Model"
   ]
  },
  {
   "cell_type": "code",
   "execution_count": 16,
   "metadata": {
    "colab": {},
    "colab_type": "code",
    "id": "JR8ZWV7PyRTH"
   },
   "outputs": [
    {
     "data": {
      "text/html": [
       "<span class=\"tex2jax_ignore\"><div class=\"entities\" style=\"line-height: 2.5; direction: ltr\">BACKGROUND: Apparent diffusion coefficient (ADC) measurements are not incorporated in BI-RADS classification.</br>PURPOSE: To assess the probability of \n",
       "<mark class=\"entity\" style=\"background: #ddd; padding: 0.45em 0.6em; margin: 0 0.25em; line-height: 1; border-radius: 0.35em;\">\n",
       "    malignancy\n",
       "    <span style=\"font-size: 0.8em; font-weight: bold; line-height: 1; border-radius: 0.35em; vertical-align: middle; margin-left: 0.5rem\">CANCER</span>\n",
       "</mark>\n",
       " of \n",
       "<mark class=\"entity\" style=\"background: #ddd; padding: 0.45em 0.6em; margin: 0 0.25em; line-height: 1; border-radius: 0.35em;\">\n",
       "    breast lesions\n",
       "    <span style=\"font-size: 0.8em; font-weight: bold; line-height: 1; border-radius: 0.35em; vertical-align: middle; margin-left: 0.5rem\">CANCER</span>\n",
       "</mark>\n",
       " at magnetic resonance mammography (\n",
       "<mark class=\"entity\" style=\"background: #ddd; padding: 0.45em 0.6em; margin: 0 0.25em; line-height: 1; border-radius: 0.35em;\">\n",
       "    MRM\n",
       "    <span style=\"font-size: 0.8em; font-weight: bold; line-height: 1; border-radius: 0.35em; vertical-align: middle; margin-left: 0.5rem\">CANCER</span>\n",
       "</mark>\n",
       ") at 3 T, by combining ADC measurements with the BI-RADS score, in order to improve the specificity of \n",
       "<mark class=\"entity\" style=\"background: #ddd; padding: 0.45em 0.6em; margin: 0 0.25em; line-height: 1; border-radius: 0.35em;\">\n",
       "    MRM\n",
       "    <span style=\"font-size: 0.8em; font-weight: bold; line-height: 1; border-radius: 0.35em; vertical-align: middle; margin-left: 0.5rem\">CANCER</span>\n",
       "</mark>\n",
       ".</br>MATERIAL AND METHODS: A total of 296 \n",
       "<mark class=\"entity\" style=\"background: #ddd; padding: 0.45em 0.6em; margin: 0 0.25em; line-height: 1; border-radius: 0.35em;\">\n",
       "    biopsy-proven breast lesions\n",
       "    <span style=\"font-size: 0.8em; font-weight: bold; line-height: 1; border-radius: 0.35em; vertical-align: middle; margin-left: 0.5rem\">CANCER</span>\n",
       "</mark>\n",
       " were included in this prospective study. \n",
       "<mark class=\"entity\" style=\"background: #ddd; padding: 0.45em 0.6em; margin: 0 0.25em; line-height: 1; border-radius: 0.35em;\">\n",
       "    MRM\n",
       "    <span style=\"font-size: 0.8em; font-weight: bold; line-height: 1; border-radius: 0.35em; vertical-align: middle; margin-left: 0.5rem\">CANCER</span>\n",
       "</mark>\n",
       " was performed at 3 T, using a standard protocol with dynamic sequence (\n",
       "<mark class=\"entity\" style=\"background: #ddd; padding: 0.45em 0.6em; margin: 0 0.25em; line-height: 1; border-radius: 0.35em;\">\n",
       "    DCE-MRI\n",
       "    <span style=\"font-size: 0.8em; font-weight: bold; line-height: 1; border-radius: 0.35em; vertical-align: middle; margin-left: 0.5rem\">CANCER</span>\n",
       "</mark>\n",
       ") and an \n",
       "<mark class=\"entity\" style=\"background: #ddd; padding: 0.45em 0.6em; margin: 0 0.25em; line-height: 1; border-radius: 0.35em;\">\n",
       "    extra\n",
       "    <span style=\"font-size: 0.8em; font-weight: bold; line-height: 1; border-radius: 0.35em; vertical-align: middle; margin-left: 0.5rem\">IMMATERIAL_ANATOMICAL_ENTITY</span>\n",
       "</mark>\n",
       " echo-planar diffusion-weighted sequence. A freehand region of interest was drawn inside the lesion, and ADC values were calculated. Each lesion was categorized according to the BI-RADS classification. Logistic regression analysis was employed to predict the probability of \n",
       "<mark class=\"entity\" style=\"background: #ddd; padding: 0.45em 0.6em; margin: 0 0.25em; line-height: 1; border-radius: 0.35em;\">\n",
       "    malignancy\n",
       "    <span style=\"font-size: 0.8em; font-weight: bold; line-height: 1; border-radius: 0.35em; vertical-align: middle; margin-left: 0.5rem\">CANCER</span>\n",
       "</mark>\n",
       " of a lesion. The model combined the BI-RADS classification and the ADC value. Sensitivity, specificity, positive predictive value, negative predictive value, and diagnostic accuracy were calculated.</br>RESULTS: In total, 153 malignant and 143 benign lesions were analyzed; 257 \n",
       "<mark class=\"entity\" style=\"background: #ddd; padding: 0.45em 0.6em; margin: 0 0.25em; line-height: 1; border-radius: 0.35em;\">\n",
       "    lesions\n",
       "    <span style=\"font-size: 0.8em; font-weight: bold; line-height: 1; border-radius: 0.35em; vertical-align: middle; margin-left: 0.5rem\">CANCER</span>\n",
       "</mark>\n",
       " were masses and 39 \n",
       "<mark class=\"entity\" style=\"background: #ddd; padding: 0.45em 0.6em; margin: 0 0.25em; line-height: 1; border-radius: 0.35em;\">\n",
       "    lesions\n",
       "    <span style=\"font-size: 0.8em; font-weight: bold; line-height: 1; border-radius: 0.35em; vertical-align: middle; margin-left: 0.5rem\">CANCER</span>\n",
       "</mark>\n",
       " were non-mass-like enhancements. The sensitivity and specificity of the combined method were 96% and 86%, respectively, in contrast to 95% and 81% with BI-RADS classification alone.</br>CONCLUSION: We propose a method of assessing the probability of \n",
       "<mark class=\"entity\" style=\"background: #ddd; padding: 0.45em 0.6em; margin: 0 0.25em; line-height: 1; border-radius: 0.35em;\">\n",
       "    malignancy\n",
       "    <span style=\"font-size: 0.8em; font-weight: bold; line-height: 1; border-radius: 0.35em; vertical-align: middle; margin-left: 0.5rem\">CANCER</span>\n",
       "</mark>\n",
       " in \n",
       "<mark class=\"entity\" style=\"background: #ddd; padding: 0.45em 0.6em; margin: 0 0.25em; line-height: 1; border-radius: 0.35em;\">\n",
       "    breast lesions\n",
       "    <span style=\"font-size: 0.8em; font-weight: bold; line-height: 1; border-radius: 0.35em; vertical-align: middle; margin-left: 0.5rem\">CANCER</span>\n",
       "</mark>\n",
       " by combining BI-RADS score and ADC values into a single formula, increasing sensitivity and specificity compared to BI-RADS classification alone.</div></span>"
      ],
      "text/plain": [
       "<IPython.core.display.HTML object>"
      ]
     },
     "metadata": {},
     "output_type": "display_data"
    }
   ],
   "source": [
    "bionlp13cg_entities = display_entities(en_ner_bionlp13cg_md,sample_text)"
   ]
  },
  {
   "cell_type": "code",
   "execution_count": 17,
   "metadata": {
    "colab": {},
    "colab_type": "code",
    "id": "qx0xyYrSylN9"
   },
   "outputs": [
    {
     "data": {
      "text/html": [
       "<div>\n",
       "<style scoped>\n",
       "    .dataframe tbody tr th:only-of-type {\n",
       "        vertical-align: middle;\n",
       "    }\n",
       "\n",
       "    .dataframe tbody tr th {\n",
       "        vertical-align: top;\n",
       "    }\n",
       "\n",
       "    .dataframe thead th {\n",
       "        text-align: right;\n",
       "    }\n",
       "</style>\n",
       "<table border=\"1\" class=\"dataframe\">\n",
       "  <thead>\n",
       "    <tr style=\"text-align: right;\">\n",
       "      <th></th>\n",
       "      <th>Entity</th>\n",
       "      <th>Label</th>\n",
       "      <th>Ner_model</th>\n",
       "    </tr>\n",
       "  </thead>\n",
       "  <tbody>\n",
       "    <tr>\n",
       "      <th>0</th>\n",
       "      <td>lesions</td>\n",
       "      <td>CANCER</td>\n",
       "      <td>bionlp13cg</td>\n",
       "    </tr>\n",
       "    <tr>\n",
       "      <th>1</th>\n",
       "      <td>biopsy-proven breast lesions</td>\n",
       "      <td>CANCER</td>\n",
       "      <td>bionlp13cg</td>\n",
       "    </tr>\n",
       "    <tr>\n",
       "      <th>2</th>\n",
       "      <td>breast lesions</td>\n",
       "      <td>CANCER</td>\n",
       "      <td>bionlp13cg</td>\n",
       "    </tr>\n",
       "    <tr>\n",
       "      <th>3</th>\n",
       "      <td>DCE-MRI</td>\n",
       "      <td>CANCER</td>\n",
       "      <td>bionlp13cg</td>\n",
       "    </tr>\n",
       "    <tr>\n",
       "      <th>4</th>\n",
       "      <td>extra</td>\n",
       "      <td>IMMATERIAL_ANATOMICAL_ENTITY</td>\n",
       "      <td>bionlp13cg</td>\n",
       "    </tr>\n",
       "    <tr>\n",
       "      <th>5</th>\n",
       "      <td>malignancy</td>\n",
       "      <td>CANCER</td>\n",
       "      <td>bionlp13cg</td>\n",
       "    </tr>\n",
       "    <tr>\n",
       "      <th>6</th>\n",
       "      <td>MRM</td>\n",
       "      <td>CANCER</td>\n",
       "      <td>bionlp13cg</td>\n",
       "    </tr>\n",
       "  </tbody>\n",
       "</table>\n",
       "</div>"
      ],
      "text/plain": [
       "                         Entity                         Label   Ner_model\n",
       "0                       lesions                        CANCER  bionlp13cg\n",
       "1  biopsy-proven breast lesions                        CANCER  bionlp13cg\n",
       "2                breast lesions                        CANCER  bionlp13cg\n",
       "3                       DCE-MRI                        CANCER  bionlp13cg\n",
       "4                         extra  IMMATERIAL_ANATOMICAL_ENTITY  bionlp13cg\n",
       "5                    malignancy                        CANCER  bionlp13cg\n",
       "6                           MRM                        CANCER  bionlp13cg"
      ]
     },
     "execution_count": 17,
     "metadata": {},
     "output_type": "execute_result"
    }
   ],
   "source": [
    "bionlp13cg_entities_dataframe = pd.DataFrame(bionlp13cg_entities[1],columns=['Entity','Label']) #save returned values of entities and their labels in a pandas dataframe\n",
    "bionlp13cg_entities_dataframe['Ner_model'] = 'bionlp13cg'  #include a column with constant value of NER model\n",
    "bionlp13cg_entities_dataframe"
   ]
  },
  {
   "cell_type": "markdown",
   "metadata": {},
   "source": [
    "#### Running en_ner_craft_md Model"
   ]
  },
  {
   "cell_type": "code",
   "execution_count": 18,
   "metadata": {
    "colab": {},
    "colab_type": "code",
    "id": "kntdryjY6fCr"
   },
   "outputs": [
    {
     "data": {
      "text/html": [
       "<span class=\"tex2jax_ignore\"><div class=\"entities\" style=\"line-height: 2.5; direction: ltr\">BACKGROUND: Apparent diffusion coefficient (ADC) measurements are not incorporated in BI-RADS classification.</br>PURPOSE: To assess the probability of malignancy of \n",
       "<mark class=\"entity\" style=\"background: #ddd; padding: 0.45em 0.6em; margin: 0 0.25em; line-height: 1; border-radius: 0.35em;\">\n",
       "    breast\n",
       "    <span style=\"font-size: 0.8em; font-weight: bold; line-height: 1; border-radius: 0.35em; vertical-align: middle; margin-left: 0.5rem\">CL</span>\n",
       "</mark>\n",
       " lesions at magnetic resonance mammography (MRM) at 3 T, by combining ADC measurements with the BI-RADS score, in order to improve the specificity of MRM.</br>MATERIAL AND METHODS: A total of 296 biopsy-proven breast lesions were included in this prospective study. MRM was performed at 3 T, using a standard protocol with dynamic \n",
       "<mark class=\"entity\" style=\"background: #ddd; padding: 0.45em 0.6em; margin: 0 0.25em; line-height: 1; border-radius: 0.35em;\">\n",
       "    sequence\n",
       "    <span style=\"font-size: 0.8em; font-weight: bold; line-height: 1; border-radius: 0.35em; vertical-align: middle; margin-left: 0.5rem\">SO</span>\n",
       "</mark>\n",
       " (DCE-MRI) and an extra \n",
       "<mark class=\"entity\" style=\"background: #ddd; padding: 0.45em 0.6em; margin: 0 0.25em; line-height: 1; border-radius: 0.35em;\">\n",
       "    echo-planar\n",
       "    <span style=\"font-size: 0.8em; font-weight: bold; line-height: 1; border-radius: 0.35em; vertical-align: middle; margin-left: 0.5rem\">SO</span>\n",
       "</mark>\n",
       " diffusion-weighted \n",
       "<mark class=\"entity\" style=\"background: #ddd; padding: 0.45em 0.6em; margin: 0 0.25em; line-height: 1; border-radius: 0.35em;\">\n",
       "    sequence\n",
       "    <span style=\"font-size: 0.8em; font-weight: bold; line-height: 1; border-radius: 0.35em; vertical-align: middle; margin-left: 0.5rem\">SO</span>\n",
       "</mark>\n",
       ". A freehand region of interest was drawn inside the lesion, and ADC values were calculated. Each lesion was categorized according to the BI-RADS classification. Logistic regression analysis was employed to predict the probability of malignancy of a lesion. The model combined the BI-RADS classification and the ADC value. Sensitivity, specificity, positive predictive value, negative predictive value, and diagnostic accuracy were calculated.</br>RESULTS: In total, 153 malignant and 143 benign lesions were analyzed; 257 lesions were masses and 39 lesions were non-mass-like enhancements. The sensitivity and specificity of the combined method were 96% and 86%, respectively, in contrast to 95% and 81% with BI-RADS classification alone.</br>CONCLUSION: We propose a method of assessing the probability of malignancy in \n",
       "<mark class=\"entity\" style=\"background: #ddd; padding: 0.45em 0.6em; margin: 0 0.25em; line-height: 1; border-radius: 0.35em;\">\n",
       "    breast\n",
       "    <span style=\"font-size: 0.8em; font-weight: bold; line-height: 1; border-radius: 0.35em; vertical-align: middle; margin-left: 0.5rem\">CL</span>\n",
       "</mark>\n",
       " lesions by combining BI-RADS score and ADC values into a single formula, increasing sensitivity and specificity compared to BI-RADS classification alone.</div></span>"
      ],
      "text/plain": [
       "<IPython.core.display.HTML object>"
      ]
     },
     "metadata": {},
     "output_type": "display_data"
    }
   ],
   "source": [
    "craft_entities = display_entities(en_ner_craft_md,sample_text)"
   ]
  },
  {
   "cell_type": "code",
   "execution_count": 19,
   "metadata": {
    "colab": {},
    "colab_type": "code",
    "id": "CY0U65S27NzX"
   },
   "outputs": [
    {
     "data": {
      "text/html": [
       "<div>\n",
       "<style scoped>\n",
       "    .dataframe tbody tr th:only-of-type {\n",
       "        vertical-align: middle;\n",
       "    }\n",
       "\n",
       "    .dataframe tbody tr th {\n",
       "        vertical-align: top;\n",
       "    }\n",
       "\n",
       "    .dataframe thead th {\n",
       "        text-align: right;\n",
       "    }\n",
       "</style>\n",
       "<table border=\"1\" class=\"dataframe\">\n",
       "  <thead>\n",
       "    <tr style=\"text-align: right;\">\n",
       "      <th></th>\n",
       "      <th>Entity</th>\n",
       "      <th>Label</th>\n",
       "      <th>Ner_model</th>\n",
       "    </tr>\n",
       "  </thead>\n",
       "  <tbody>\n",
       "    <tr>\n",
       "      <th>0</th>\n",
       "      <td>echo-planar</td>\n",
       "      <td>SO</td>\n",
       "      <td>craft</td>\n",
       "    </tr>\n",
       "    <tr>\n",
       "      <th>1</th>\n",
       "      <td>sequence</td>\n",
       "      <td>SO</td>\n",
       "      <td>craft</td>\n",
       "    </tr>\n",
       "    <tr>\n",
       "      <th>2</th>\n",
       "      <td>breast</td>\n",
       "      <td>CL</td>\n",
       "      <td>craft</td>\n",
       "    </tr>\n",
       "  </tbody>\n",
       "</table>\n",
       "</div>"
      ],
      "text/plain": [
       "        Entity Label Ner_model\n",
       "0  echo-planar    SO     craft\n",
       "1     sequence    SO     craft\n",
       "2       breast    CL     craft"
      ]
     },
     "execution_count": 19,
     "metadata": {},
     "output_type": "execute_result"
    }
   ],
   "source": [
    "craft_entities_dataframe = pd.DataFrame(craft_entities[1],columns=['Entity','Label'])  #save returned values of entities and their labels in a pandas dataframe\n",
    "craft_entities_dataframe['Ner_model'] = 'craft' #include a column with constant value of NER model\n",
    "craft_entities_dataframe"
   ]
  },
  {
   "cell_type": "markdown",
   "metadata": {},
   "source": [
    "#### Running en_ner_jnlpba_md Model"
   ]
  },
  {
   "cell_type": "code",
   "execution_count": 20,
   "metadata": {
    "colab": {},
    "colab_type": "code",
    "id": "srLAGPsu7Yvl"
   },
   "outputs": [
    {
     "data": {
      "text/html": [
       "<span class=\"tex2jax_ignore\"><div class=\"entities\" style=\"line-height: 2.5; direction: ltr\">BACKGROUND: Apparent diffusion coefficient (ADC) measurements are not incorporated in BI-RADS classification.</br>PURPOSE: To assess the probability of malignancy of breast lesions at magnetic resonance mammography (MRM) at 3 T, by combining ADC measurements with the BI-RADS score, in order to improve the specificity of MRM.</br>MATERIAL AND METHODS: A total of 296 biopsy-proven breast lesions were included in this prospective study. MRM was performed at 3 T, using a standard protocol with dynamic sequence (\n",
       "<mark class=\"entity\" style=\"background: #ddd; padding: 0.45em 0.6em; margin: 0 0.25em; line-height: 1; border-radius: 0.35em;\">\n",
       "    DCE-MRI\n",
       "    <span style=\"font-size: 0.8em; font-weight: bold; line-height: 1; border-radius: 0.35em; vertical-align: middle; margin-left: 0.5rem\">PROTEIN</span>\n",
       "</mark>\n",
       ") and an extra \n",
       "<mark class=\"entity\" style=\"background: #ddd; padding: 0.45em 0.6em; margin: 0 0.25em; line-height: 1; border-radius: 0.35em;\">\n",
       "    echo-planar diffusion-weighted sequence\n",
       "    <span style=\"font-size: 0.8em; font-weight: bold; line-height: 1; border-radius: 0.35em; vertical-align: middle; margin-left: 0.5rem\">DNA</span>\n",
       "</mark>\n",
       ". A freehand region of interest was drawn inside the lesion, and ADC values were calculated. Each lesion was categorized according to the BI-RADS classification. Logistic regression analysis was employed to predict the probability of malignancy of a lesion. The model combined the BI-RADS classification and the ADC value. Sensitivity, specificity, positive predictive value, negative predictive value, and diagnostic accuracy were calculated.</br>RESULTS: In total, 153 malignant and 143 benign lesions were analyzed; 257 lesions were masses and 39 lesions were non-mass-like enhancements. The sensitivity and specificity of the combined method were 96% and 86%, respectively, in contrast to 95% and 81% with BI-RADS classification alone.</br>CONCLUSION: We propose a method of assessing the probability of malignancy in breast lesions by combining BI-RADS score and ADC values into a single formula, increasing sensitivity and specificity compared to BI-RADS classification alone.</div></span>"
      ],
      "text/plain": [
       "<IPython.core.display.HTML object>"
      ]
     },
     "metadata": {},
     "output_type": "display_data"
    }
   ],
   "source": [
    "jnlpba_entities = display_entities(en_ner_jnlpba_md,sample_text)"
   ]
  },
  {
   "cell_type": "code",
   "execution_count": 21,
   "metadata": {
    "colab": {},
    "colab_type": "code",
    "id": "5raJie4E7uka"
   },
   "outputs": [
    {
     "data": {
      "text/html": [
       "<div>\n",
       "<style scoped>\n",
       "    .dataframe tbody tr th:only-of-type {\n",
       "        vertical-align: middle;\n",
       "    }\n",
       "\n",
       "    .dataframe tbody tr th {\n",
       "        vertical-align: top;\n",
       "    }\n",
       "\n",
       "    .dataframe thead th {\n",
       "        text-align: right;\n",
       "    }\n",
       "</style>\n",
       "<table border=\"1\" class=\"dataframe\">\n",
       "  <thead>\n",
       "    <tr style=\"text-align: right;\">\n",
       "      <th></th>\n",
       "      <th>Entity</th>\n",
       "      <th>Label</th>\n",
       "      <th>Ner_model</th>\n",
       "    </tr>\n",
       "  </thead>\n",
       "  <tbody>\n",
       "    <tr>\n",
       "      <th>0</th>\n",
       "      <td>DCE-MRI</td>\n",
       "      <td>PROTEIN</td>\n",
       "      <td>jnlpa</td>\n",
       "    </tr>\n",
       "    <tr>\n",
       "      <th>1</th>\n",
       "      <td>echo-planar diffusion-weighted sequence</td>\n",
       "      <td>DNA</td>\n",
       "      <td>jnlpa</td>\n",
       "    </tr>\n",
       "  </tbody>\n",
       "</table>\n",
       "</div>"
      ],
      "text/plain": [
       "                                    Entity    Label Ner_model\n",
       "0                                  DCE-MRI  PROTEIN     jnlpa\n",
       "1  echo-planar diffusion-weighted sequence      DNA     jnlpa"
      ]
     },
     "execution_count": 21,
     "metadata": {},
     "output_type": "execute_result"
    }
   ],
   "source": [
    "jnlpa_entities_dataframe = pd.DataFrame(jnlpba_entities[1],columns=['Entity','Label']) #save returned values of entities and their labels in a pandas dataframe\n",
    "jnlpa_entities_dataframe['Ner_model'] = 'jnlpa' # include a column with constant value of NER model\n",
    "jnlpa_entities_dataframe"
   ]
  },
  {
   "cell_type": "markdown",
   "metadata": {},
   "source": [
    "#### Combining all entities Dataframe"
   ]
  },
  {
   "cell_type": "code",
   "execution_count": 22,
   "metadata": {
    "colab": {},
    "colab_type": "code",
    "id": "T9UqOgw275Yg"
   },
   "outputs": [
    {
     "name": "stdout",
     "output_type": "stream",
     "text": [
      "<class 'pandas.core.frame.DataFrame'>\n",
      "Int64Index: 14 entries, 0 to 1\n",
      "Data columns (total 3 columns):\n",
      " #   Column     Non-Null Count  Dtype \n",
      "---  ------     --------------  ----- \n",
      " 0   Entity     14 non-null     object\n",
      " 1   Label      14 non-null     object\n",
      " 2   Ner_model  14 non-null     object\n",
      "dtypes: object(3)\n",
      "memory usage: 448.0+ bytes\n"
     ]
    }
   ],
   "source": [
    "entities_and_label_from_4_NER_model_dataframe = pd.concat([bc5dr_entities_dataframe,bionlp13cg_entities_dataframe,craft_entities_dataframe,jnlpa_entities_dataframe])\n",
    "#Concatenate all pandas dataframe into one.\n",
    "entities_and_label_from_4_NER_model_dataframe.to_csv('entities_and_label_from_4_scispacy_NER_models.csv', index=False) #Save dataframe to csv\n",
    "entities_and_label_from_4_NER_model_dataframe.info()"
   ]
  },
  {
   "cell_type": "code",
   "execution_count": 25,
   "metadata": {
    "colab": {},
    "colab_type": "code",
    "id": "PmTLIRWDIGvi"
   },
   "outputs": [],
   "source": [
    "#Load pre extracted dataset into pandas\n",
    "entities_and_label_from_4_NER_model_dataframe = pd.read_csv('entities_and_label_from_4_scispacy_NER_models.csv')"
   ]
  },
  {
   "cell_type": "code",
   "execution_count": 26,
   "metadata": {
    "colab": {},
    "colab_type": "code",
    "id": "PEWKIrElMGk0"
   },
   "outputs": [
    {
     "data": {
      "text/html": [
       "<div>\n",
       "<style scoped>\n",
       "    .dataframe tbody tr th:only-of-type {\n",
       "        vertical-align: middle;\n",
       "    }\n",
       "\n",
       "    .dataframe tbody tr th {\n",
       "        vertical-align: top;\n",
       "    }\n",
       "\n",
       "    .dataframe thead th {\n",
       "        text-align: right;\n",
       "    }\n",
       "</style>\n",
       "<table border=\"1\" class=\"dataframe\">\n",
       "  <thead>\n",
       "    <tr style=\"text-align: right;\">\n",
       "      <th></th>\n",
       "      <th>Entity</th>\n",
       "      <th>Label</th>\n",
       "      <th>Ner_model</th>\n",
       "    </tr>\n",
       "  </thead>\n",
       "  <tbody>\n",
       "    <tr>\n",
       "      <th>0</th>\n",
       "      <td>breast lesions</td>\n",
       "      <td>DISEASE</td>\n",
       "      <td>bc5dr</td>\n",
       "    </tr>\n",
       "    <tr>\n",
       "      <th>1</th>\n",
       "      <td>malignancy</td>\n",
       "      <td>DISEASE</td>\n",
       "      <td>bc5dr</td>\n",
       "    </tr>\n",
       "    <tr>\n",
       "      <th>2</th>\n",
       "      <td>lesions</td>\n",
       "      <td>CANCER</td>\n",
       "      <td>bionlp13cg</td>\n",
       "    </tr>\n",
       "    <tr>\n",
       "      <th>3</th>\n",
       "      <td>biopsy-proven breast lesions</td>\n",
       "      <td>CANCER</td>\n",
       "      <td>bionlp13cg</td>\n",
       "    </tr>\n",
       "    <tr>\n",
       "      <th>4</th>\n",
       "      <td>breast lesions</td>\n",
       "      <td>CANCER</td>\n",
       "      <td>bionlp13cg</td>\n",
       "    </tr>\n",
       "  </tbody>\n",
       "</table>\n",
       "</div>"
      ],
      "text/plain": [
       "                         Entity    Label   Ner_model\n",
       "0                breast lesions  DISEASE       bc5dr\n",
       "1                    malignancy  DISEASE       bc5dr\n",
       "2                       lesions   CANCER  bionlp13cg\n",
       "3  biopsy-proven breast lesions   CANCER  bionlp13cg\n",
       "4                breast lesions   CANCER  bionlp13cg"
      ]
     },
     "execution_count": 26,
     "metadata": {},
     "output_type": "execute_result"
    }
   ],
   "source": [
    "#pd.options.display.max_colwidth = 1000      #increase display width of the pandas dataframe\n",
    "entities_and_label_from_4_NER_model_dataframe.head() "
   ]
  },
  {
   "cell_type": "markdown",
   "metadata": {
    "colab": {},
    "colab_type": "code",
    "id": "Cbvv3BeOWVL3"
   },
   "source": [
    "### References:\n",
    "#### 1. https://oyewusiwuraola.medium.com/how-to-use-scispacy-entity-linkers-for-biomedical-named-entities-7cf13b29ef67\n",
    "#### 2. https://medium.com/@maheshdmahi/scispacy-for-bio-medical-named-entity-recognition-ner-63ed548f1df0\n",
    "#### 3. https://spacy.io/\n",
    "#### 4. Model Download https://allenai.github.io/scispacy/"
   ]
  },
  {
   "cell_type": "code",
   "execution_count": null,
   "metadata": {},
   "outputs": [],
   "source": []
  }
 ],
 "metadata": {
  "colab": {
   "collapsed_sections": [],
   "include_colab_link": true,
   "machine_shape": "hm",
   "name": "scispacy_entities_extractions_and_linkers(cleared outputs) .ipynb",
   "provenance": []
  },
  "kernelspec": {
   "display_name": "Python 3",
   "language": "python",
   "name": "python3"
  },
  "language_info": {
   "codemirror_mode": {
    "name": "ipython",
    "version": 3
   },
   "file_extension": ".py",
   "mimetype": "text/x-python",
   "name": "python",
   "nbconvert_exporter": "python",
   "pygments_lexer": "ipython3",
   "version": "3.8.8"
  }
 },
 "nbformat": 4,
 "nbformat_minor": 4
}
