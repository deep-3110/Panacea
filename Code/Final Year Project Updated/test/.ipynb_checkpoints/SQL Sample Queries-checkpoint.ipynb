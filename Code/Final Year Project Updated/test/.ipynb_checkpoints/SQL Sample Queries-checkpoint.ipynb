{
 "cells": [
  {
   "cell_type": "markdown",
   "metadata": {},
   "source": [
    "## This is a Jupyter Notebook to Create Database using SQLite3"
   ]
  },
  {
   "cell_type": "markdown",
   "metadata": {},
   "source": [
    "## Importing Modules"
   ]
  },
  {
   "cell_type": "code",
   "execution_count": 1,
   "metadata": {},
   "outputs": [],
   "source": [
    "import sqlite3"
   ]
  },
  {
   "cell_type": "markdown",
   "metadata": {},
   "source": [
    "## Sample Queries"
   ]
  },
  {
   "cell_type": "code",
   "execution_count": 3,
   "metadata": {},
   "outputs": [],
   "source": [
    "cur = con.cursor()\n",
    "\n",
    "# Create table\n",
    "cur.execute('''CREATE TABLE DOCTOR_DETAILS\n",
    "               (id int, first_name text, last_name text, age int, experience text, domain text)''')\n",
    "\n",
    "# Insert a row of data\n",
    "cur.execute(\"INSERT INTO DOCTOR_DETAILS VALUES (1, 'James', 'Bond',30, '5 Years', 'Eye Specialist')\")\n",
    "\n",
    "# Save (commit) the changes\n",
    "con.commit()\n",
    "\n",
    "# We can also close the connection if we are done with it.\n",
    "# Just be sure any changes have been committed or they will be lost.\n",
    "con.close()"
   ]
  },
  {
   "cell_type": "markdown",
   "metadata": {},
   "source": [
    "## Function To Create Doctor Values"
   ]
  },
  {
   "cell_type": "code",
   "execution_count": 26,
   "metadata": {},
   "outputs": [],
   "source": [
    "def doctor_details_creator():\n",
    "    con = sqlite3.connect('doctor_database.db')\n",
    "    cur = con.cursor()\n",
    "    \n",
    "    for val in cur.execute('''SELECT id FROM DOCTOR_DETAILS WHERE id=(SELECT max(id) FROM DOCTOR_DETAILS)'''):\n",
    "        id = val[0] + 1\n",
    "    \n",
    "    con.close()\n",
    "    \n",
    "    first_name = input(\"Enter First Name - \")\n",
    "    last_name = input(\"Enter Last Name - \")\n",
    "    age = int(input(\"Enter Age - \")) \n",
    "    experience = int(input(\"Enter Years of Experience - \"))\n",
    "    experience = str(experience) + \" Years\"\n",
    "    domain = input(\"Enter Domain - \")\n",
    "    \n",
    "    con = sqlite3.connect('doctor_database.db')\n",
    "    cur = con.cursor()\n",
    "    \n",
    "    query = \"INSERT INTO DOCTOR_DETAILS VALUES (\" + str(id) + \",\" + \"'\" + first_name + \"'\" + \",\" + \"'\" + last_name + \"'\" + \",\" + str(age) + \",\" + \"'\" + experience + \"'\" + \",\" + \"'\" + domain + \"'\" + \")\"\n",
    "    \n",
    "    print(query)\n",
    "    \n",
    "    cur.execute(query)\n",
    "    \n",
    "    con.commit()\n",
    "    con.close()"
   ]
  },
  {
   "cell_type": "code",
   "execution_count": 68,
   "metadata": {},
   "outputs": [
    {
     "name": "stdout",
     "output_type": "stream",
     "text": [
      "Enter First Name - Mayson\n",
      "Enter Last Name - Gena\n",
      "Enter Age - 60\n",
      "Enter Years of Experience - 32\n",
      "Enter Domain - Dentist\n",
      "INSERT INTO DOCTOR_DETAILS VALUES (30,'Mayson','Gena',60,'32 Years','Dentist')\n"
     ]
    }
   ],
   "source": [
    "doctor_details_creator()"
   ]
  },
  {
   "cell_type": "code",
   "execution_count": 38,
   "metadata": {},
   "outputs": [
    {
     "name": "stdout",
     "output_type": "stream",
     "text": [
      "['James', 'John']\n"
     ]
    }
   ],
   "source": [
    "con = sqlite3.connect('doctor_database.db')\n",
    "cur = con.cursor()\n",
    "\n",
    "first_name_val = []\n",
    "for val in cur.execute('''SELECT first_name FROM DOCTOR_DETAILS'''):\n",
    "    first_name_val.append(val[0])\n",
    "\n",
    "print(first_name_val)\n",
    "\n",
    "con.close()"
   ]
  },
  {
   "cell_type": "markdown",
   "metadata": {},
   "source": [
    "## Patient Table Creator"
   ]
  },
  {
   "cell_type": "code",
   "execution_count": 72,
   "metadata": {},
   "outputs": [],
   "source": [
    "con = sqlite3.connect('patient_database.db')\n",
    "cur = con.cursor()\n",
    "\n",
    "# Create table\n",
    "cur.execute('''CREATE TABLE PATIENT_DETAILS\n",
    "               (id int, first_name text, last_name text, age int, address text)''')\n",
    "\n",
    "# Insert a row of data\n",
    "cur.execute(\"INSERT INTO PATIENT_DETAILS VALUES (1, 'Leonardo', 'DiCaprio',30, '15th Street, New York')\")\n",
    "\n",
    "# Save (commit) the changes\n",
    "con.commit()\n",
    "\n",
    "# We can also close the connection if we are done with it.\n",
    "# Just be sure any changes have been committed or they will be lost.\n",
    "con.close()"
   ]
  },
  {
   "cell_type": "code",
   "execution_count": 85,
   "metadata": {},
   "outputs": [],
   "source": [
    "def patient_details_creator():\n",
    "    con = sqlite3.connect('patient_database.db')\n",
    "    cur = con.cursor()\n",
    "    \n",
    "    for val in cur.execute('''SELECT id FROM PATIENT_DETAILS WHERE id=(SELECT max(id) FROM PATIENT_DETAILS)'''):\n",
    "        id = val[0] + 1\n",
    "    \n",
    "    con.close()\n",
    "    \n",
    "    first_name = input(\"Enter First Name - \")\n",
    "    last_name = input(\"Enter Last Name - \")\n",
    "    age = int(input(\"Enter Age - \")) \n",
    "    address = input(\"Enter Address - \")\n",
    "    \n",
    "    con = sqlite3.connect('patient_database.db')\n",
    "    cur = con.cursor()\n",
    "    \n",
    "    query = \"INSERT INTO PATIENT_DETAILS VALUES (\" + str(id) + \",\" + \"'\" + first_name + \"'\" + \",\" + \"'\" + last_name + \"'\" + \",\" + str(age) + \",\" + \"'\" + address + \"'\" + \")\"\n",
    "    \n",
    "    print(query)\n",
    "    \n",
    "    cur.execute(query)\n",
    "    \n",
    "    con.commit()\n",
    "    con.close()"
   ]
  },
  {
   "cell_type": "code",
   "execution_count": 114,
   "metadata": {},
   "outputs": [
    {
     "name": "stdout",
     "output_type": "stream",
     "text": [
      "Enter First Name - Carson\n",
      "Enter Last Name - Ezekiel\n",
      "Enter Age - 60\n",
      "Enter Address - 4th Lane, San Fransisco\n",
      "INSERT INTO PATIENT_DETAILS VALUES (5,'Carson','Ezekiel',60,'4th Lane, San Fransisco')\n"
     ]
    }
   ],
   "source": [
    "patient_details_creator()"
   ]
  },
  {
   "cell_type": "markdown",
   "metadata": {},
   "source": [
    "## Appointments Table Creator"
   ]
  },
  {
   "cell_type": "code",
   "execution_count": 12,
   "metadata": {},
   "outputs": [],
   "source": [
    "con = sqlite3.connect('appointment_database.db')\n",
    "cur = con.cursor()\n",
    "\n",
    "# # Create table\n",
    "# cur.execute('''CREATE TABLE SCHEDULED_APPOINTMENTS\n",
    "#                (id int, patient_id int, doctor_id int, patient_name text, doctor_name text, date text, time text, reason text, email_id text, status text)''')\n",
    "\n",
    "# Insert a row of data\n",
    "cur.execute(\"INSERT INTO SCHEDULED_APPOINTMENTS VALUES (1, 1, 5, 'Leonardo DiCaprio', 'Katherine Angelle', '20-01-2021', '13:00', 'Checkup', 'leonardodicaprio@gmail.com', 'Requested')\")\n",
    "\n",
    "# Save (commit) the changes\n",
    "con.commit()\n",
    "\n",
    "# We can also close the connection if we are done with it.\n",
    "# Just be sure any changes have been committed or they will be lost.\n",
    "con.close()"
   ]
  },
  {
   "cell_type": "markdown",
   "metadata": {},
   "source": [
    "## Appointments Creator"
   ]
  },
  {
   "cell_type": "code",
   "execution_count": 117,
   "metadata": {},
   "outputs": [],
   "source": [
    "def appointment_details_creator(patient_id, doctor_id):\n",
    "    con1 = sqlite3.connect('appointment_database.db')\n",
    "    cur1 = con1.cursor()\n",
    "    \n",
    "    for val in cur1.execute('''SELECT id FROM SCHEDULED_APPOINTMENTS WHERE id=(SELECT max(id) FROM SCHEDULED_APPOINTMENTS)'''):\n",
    "        id = val[0] + 1\n",
    "    \n",
    "    con1.close()\n",
    "    \n",
    "    patient_id = patient_id\n",
    "    doctor_id = doctor_id\n",
    "    generate_date_time()\n",
    "    date = date_time[0]\n",
    "    time = date_time[1]\n",
    "    # For Patient Name\n",
    "    con2 = sqlite3.connect('patient_database.db')\n",
    "    cur2 = con2.cursor()\n",
    "    \n",
    "    query1 = \"SELECT first_name FROM PATIENT_DETAILS WHERE id=\" + str(patient_id)\n",
    "    for val in cur2.execute(query1):\n",
    "        first_name = val[0]\n",
    "    query2 = \"SELECT last_name FROM PATIENT_DETAILS WHERE id=\" + str(patient_id)\n",
    "    for val in cur2.execute(query2):\n",
    "        last_name = val[0]\n",
    "    patient_name = first_name + \" \" + last_name\n",
    "    con2.close()\n",
    "    \n",
    "    # For Doctor Name\n",
    "    con3 = sqlite3.connect('doctor_database.db')\n",
    "    cur3 = con3.cursor()\n",
    "    \n",
    "    query1 = \"SELECT first_name FROM DOCTOR_DETAILS WHERE id=\" + str(doctor_id)\n",
    "    for val in cur3.execute(query1):\n",
    "        first_name = val[0]\n",
    "    query2 = \"SELECT last_name FROM DOCTOR_DETAILS WHERE id=\" + str(doctor_id)\n",
    "    for val in cur3.execute(query2):\n",
    "        last_name = val[0]\n",
    "    doctor_name = first_name + \" \" + last_name\n",
    "    \n",
    "    con3.close()\n",
    "    \n",
    "    con = sqlite3.connect('appointment_database.db')\n",
    "    cur = con.cursor()\n",
    "    \n",
    "    query = \"INSERT INTO SCHEDULED_APPOINTMENTS VALUES (\" + str(id) + \",\" + \"'\" + str(patient_id) + \"'\" + \",\" + \"'\" + str(doctor_id) + \"'\" + \",\" + \"'\" + patient_name + \"'\" + \",\" + \"'\" + doctor_name + \"'\" + \",\" + \"'\" + date + \"'\" + \",\" + \"'\" + time + \"'\" + \")\"\n",
    "    \n",
    "    print(query)\n",
    "    \n",
    "    cur.execute(query)\n",
    "    \n",
    "    con.commit()\n",
    "    con.close()"
   ]
  },
  {
   "cell_type": "code",
   "execution_count": 120,
   "metadata": {},
   "outputs": [
    {
     "name": "stdout",
     "output_type": "stream",
     "text": [
      "['2021-06-20', '12:10:32']\n",
      "INSERT INTO SCHEDULED_APPOINTMENTS VALUES (30,'5','29','Carson Ezekiel','Makenna Katelynn','2021-05-05','09:00:46')\n"
     ]
    }
   ],
   "source": [
    "import random\n",
    "\n",
    "i = 0\n",
    "while i < 1:\n",
    "    patient_id = random.randint(1,5)\n",
    "    doctor_id = random.randint(1,30)\n",
    "    appointment_details_creator(patient_id, doctor_id)\n",
    "    i = i + 1"
   ]
  },
  {
   "cell_type": "code",
   "execution_count": 98,
   "metadata": {},
   "outputs": [
    {
     "name": "stdout",
     "output_type": "stream",
     "text": [
      "DELETE FROM SCHEDULED_APPOINTMENTS WHERE id=2\n"
     ]
    }
   ],
   "source": [
    "con = sqlite3.connect('appointment_database.db')\n",
    "cur = con.cursor()\n",
    "\n",
    "query = \"DELETE FROM SCHEDULED_APPOINTMENTS WHERE id=2\"\n",
    "\n",
    "print(query)\n",
    "\n",
    "cur.execute(query)\n",
    "\n",
    "con.commit()\n",
    "con.close()"
   ]
  },
  {
   "cell_type": "code",
   "execution_count": 110,
   "metadata": {},
   "outputs": [],
   "source": [
    "from random import randrange\n",
    "from datetime import timedelta\n",
    "\n",
    "def random_date(start, end):\n",
    "    \"\"\"\n",
    "    This function will return a random datetime between two datetime \n",
    "    objects.\n",
    "    \"\"\"\n",
    "    delta = end - start\n",
    "    int_delta = (delta.days * 24 * 60 * 60) + delta.seconds\n",
    "    random_second = randrange(int_delta)\n",
    "    return start + timedelta(seconds=random_second)\n",
    "\n",
    "from datetime import datetime\n",
    "\n",
    "def generate_date_time():\n",
    "    d1 = datetime.strptime('1/1/2021 1:30 PM', '%m/%d/%Y %I:%M %p')\n",
    "    d2 = datetime.strptime('1/1/2022 4:50 AM', '%m/%d/%Y %I:%M %p')\n",
    "\n",
    "    random_date_time = str(random_date(d1, d2))\n",
    "    date_time = random_date_time.split()\n",
    "    print(date_time)\n",
    "    return date_time"
   ]
  },
  {
   "cell_type": "markdown",
   "metadata": {},
   "source": [
    "## Login and Sign Up Table Creator for Patient"
   ]
  },
  {
   "cell_type": "code",
   "execution_count": 20,
   "metadata": {},
   "outputs": [],
   "source": [
    "con = sqlite3.connect('patient_login.db')\n",
    "cur = con.cursor()\n",
    "\n",
    "# Create table\n",
    "cur.execute('''CREATE TABLE PATIENT_LOGIN\n",
    "               (id int, first_name text, last_name text, email_id text, password text)''')\n",
    "\n",
    "# Insert a row of data\n",
    "cur.execute(\"INSERT INTO PATIENT_LOGIN VALUES (1, 'Leonardo', 'DiCaprio', 'leonardodicaprio@gmail.com', '63640264849a87c90356129d99ea165e37aa5fabc1fea46906df1a7ca50db492')\")\n",
    "\n",
    "# Save (commit) the changes\n",
    "con.commit()\n",
    "\n",
    "# We can also close the connection if we are done with it.\n",
    "# Just be sure any changes have been committed or they will be lost.\n",
    "con.close()"
   ]
  },
  {
   "cell_type": "code",
   "execution_count": 2,
   "metadata": {},
   "outputs": [],
   "source": [
    "import hashlib"
   ]
  },
  {
   "cell_type": "code",
   "execution_count": 5,
   "metadata": {},
   "outputs": [
    {
     "name": "stdout",
     "output_type": "stream",
     "text": [
      "63640264849a87c90356129d99ea165e37aa5fabc1fea46906df1a7ca50db492\n"
     ]
    }
   ],
   "source": [
    "password = \"12345678910\"\n",
    "encoded = password.encode()\n",
    "result = hashlib.sha256(encoded)\n",
    "print(result.hexdigest())"
   ]
  },
  {
   "cell_type": "code",
   "execution_count": 21,
   "metadata": {},
   "outputs": [],
   "source": [
    "def patient_signup():\n",
    "    con = sqlite3.connect('patient_login.db')\n",
    "    cur = con.cursor()\n",
    "    \n",
    "    for val in cur.execute('''SELECT id FROM PATIENT_LOGIN WHERE id=(SELECT max(id) FROM PATIENT_LOGIN)'''):\n",
    "        id = val[0] + 1\n",
    "    \n",
    "    con.close()\n",
    "    \n",
    "    first_name = input(\"Enter First Name - \")\n",
    "    last_name = input(\"Enter Last Name - \")\n",
    "    email_id = input(\"Enter Email ID - \") \n",
    "    password = input(\"Enter Password - \")\n",
    "    encoded = password.encode()\n",
    "    result = hashlib.sha256(encoded).hexdigest()\n",
    "    \n",
    "    con = sqlite3.connect('patient_login.db')\n",
    "    cur = con.cursor()\n",
    "    \n",
    "    query = \"INSERT INTO PATIENT_LOGIN VALUES (\" + str(id) + \",\" + \"'\" + first_name + \"'\" + \",\" + \"'\" + last_name + \"'\" + \",\" + \"'\" + email_id + \"'\" + \",\" + \"'\" + result + \"'\" + \")\"\n",
    "    \n",
    "    print(query)\n",
    "    \n",
    "    cur.execute(query)\n",
    "    \n",
    "    con.commit()\n",
    "    con.close()"
   ]
  },
  {
   "cell_type": "code",
   "execution_count": 25,
   "metadata": {},
   "outputs": [
    {
     "name": "stdout",
     "output_type": "stream",
     "text": [
      "Enter First Name - Carson\n",
      "Enter Last Name - Ezekiel\n",
      "Enter Email ID - carsonezekiel@gmail.com\n",
      "Enter Password - 2345678920\n",
      "INSERT INTO PATIENT_LOGIN VALUES (5,'Carson','Ezekiel','carsonezekiel@gmail.com','40eab6b696829730a8ecb0018bda501ec1f85d10818fd3910a1991a2aed295bf')\n"
     ]
    }
   ],
   "source": [
    "patient_signup()"
   ]
  },
  {
   "cell_type": "code",
   "execution_count": 19,
   "metadata": {},
   "outputs": [],
   "source": [
    "con = sqlite3.connect('patient_login.db')\n",
    "cur = con.cursor()\n",
    "\n",
    "# Create table\n",
    "cur.execute('''DROP TABLE PATIENT_LOGIN''')\n",
    "\n",
    "# Save (commit) the changes\n",
    "con.commit()\n",
    "\n",
    "# We can also close the connection if we are done with it.\n",
    "# Just be sure any changes have been committed or they will be lost.\n",
    "con.close()"
   ]
  },
  {
   "cell_type": "code",
   "execution_count": 45,
   "metadata": {},
   "outputs": [],
   "source": [
    "def patient_login():\n",
    "    con = sqlite3.connect('patient_login.db')\n",
    "    cur = con.cursor()\n",
    "    \n",
    "    email_id = input(\"Enter your Email ID - \")\n",
    "    password = input(\"Enter your Password - \")\n",
    "    encoded = password.encode()\n",
    "    result = hashlib.sha256(encoded).hexdigest()\n",
    "    \n",
    "    query = \"SELECT COUNT(*) FROM PATIENT_LOGIN WHERE email_id = \" + \"'\" + email_id + \"'\"\n",
    "    \n",
    "    for val in con.execute(query):\n",
    "        check = val[0]\n",
    "    \n",
    "    print(query)\n",
    "    \n",
    "    if check == 1:\n",
    "        query = \"SELECT COUNT(*) FROM PATIENT_LOGIN WHERE email_id = \" + \"'\" + email_id + \"'\" + \"AND \" + \"password = \" + \"'\" + result + \"'\"\n",
    "        for val in con.execute(query):\n",
    "            check = val[0]\n",
    "        print(query)\n",
    "        if check == 1:\n",
    "            print(\"Successfully Logged In\")\n",
    "        elif check == 0:\n",
    "            print(\"Incorrect Email ID or Password\")\n",
    "    elif check == 0:\n",
    "        print(\"User Does not Exist\")\n",
    "        \n",
    "#     print(check)\n",
    "    \n",
    "    con.commit()\n",
    "    con.close("
   ]
  },
  {
   "cell_type": "code",
   "execution_count": 46,
   "metadata": {
    "scrolled": true
   },
   "outputs": [
    {
     "name": "stdout",
     "output_type": "stream",
     "text": [
      "Enter your Email ID - leonardodicaprio@gmail.com\n",
      "Enter your Password - 12345678910\n",
      "SELECT COUNT(*) FROM PATIENT_LOGIN WHERE email_id = 'leonardodicaprio@gmail.com'\n",
      "SELECT COUNT(*) FROM PATIENT_LOGIN WHERE email_id = 'leonardodicaprio@gmail.com'AND password = '63640264849a87c90356129d99ea165e37aa5fabc1fea46906df1a7ca50db492'\n",
      "Successfully Logged In\n"
     ]
    }
   ],
   "source": [
    "patient_login()"
   ]
  },
  {
   "cell_type": "markdown",
   "metadata": {},
   "source": [
    "## Doctor Certificate Table Creation"
   ]
  },
  {
   "cell_type": "code",
   "execution_count": 16,
   "metadata": {},
   "outputs": [],
   "source": [
    "con = sqlite3.connect('doctor_database.db')\n",
    "cur = con.cursor()\n",
    "\n",
    "# # Create table\n",
    "# cur.execute('''CREATE TABLE CERTIFICATE_REQUEST\n",
    "#                (id int, patient_id int, patient_name text, doctor_id int, doctor_name text, reason text, email_id text)''')\n",
    "\n",
    "# Insert a row of data\n",
    "cur.execute(\"INSERT INTO CERTIFICATE_REQUEST VALUES (1, 2, 'Carson Genna', 1, 'James Bond', 'Requested by Univeristy', 'carsongenna@gmail.com')\")\n",
    "\n",
    "# Save (commit) the changes\n",
    "con.commit()\n",
    "\n",
    "# We can also close the connection if we are done with it.\n",
    "# Just be sure any changes have been committed or they will be lost.\n",
    "con.close()"
   ]
  },
  {
   "cell_type": "code",
   "execution_count": null,
   "metadata": {},
   "outputs": [],
   "source": [
    "con = sqlite3.connect('patient_login.db')\n",
    "cur = con.cursor()\n",
    "\n",
    "query = \"SELECT id FROM PATIENT_LOGIN WHERE email_id = \" + email_id\n",
    "for i in cur.execute(query):\n",
    "    patient_id = i[0]\n",
    "\n",
    "con.commit()\n",
    "\n",
    "con.close()\n",
    "\n",
    "con = sqlite3.connect('doctor_database.db')\n",
    "cur = con.cursor()\n",
    "\n",
    "for val in cur.execute('''SELECT id FROM CERTIFICATE_REQUEST WHERE id=(SELECT max(id) FROM CERTIFICATE_REQUEST)'''):\n",
    "        id = val[0] + 1\n",
    "\n",
    "first_name = doctor_name.split(\" \")\n",
    "\n",
    "query = \"SELECT id FROM DOCTOR_DETAILS WHERE first_name = \" + first_name[0]\n",
    "for i in cur.execute(query):\n",
    "    doctor_id = i[0]\n",
    "        \n",
    "query = \"INSERT INTO CERTIFICATE_REQUEST VALUES (\" + id + \",'\" + patient_id + \"',\" + \"'\" + patient_name + \"'\" + + \",'\" + doctor_id + \"',\" + \"'\" + doctor_name + \"'\" + \",'\" + reason + \"'\" + \",'\" + email_id + \"'\" + \")\"\n",
    "cur.execute(query)\n",
    "\n",
    "\n",
    "con.commit()\n",
    "\n",
    "con.close()"
   ]
  },
  {
   "cell_type": "code",
   "execution_count": null,
   "metadata": {},
   "outputs": [],
   "source": []
  },
  {
   "cell_type": "markdown",
   "metadata": {},
   "source": [
    "## Updating Patient Table"
   ]
  },
  {
   "cell_type": "code",
   "execution_count": 12,
   "metadata": {},
   "outputs": [],
   "source": [
    "# SQL Statement - \n",
    "# ALTER TABLE table_name\n",
    "# ADD column_name datatype;\n",
    "\n",
    "con = sqlite3.connect('patient_login.db')\n",
    "cur = con.cursor()\n",
    "\n",
    "# Create table\n",
    "cur.execute('''ALTER TABLE PATIENT_LOGIN ADD data_id text''')\n",
    "\n",
    "# Save (commit) the changes\n",
    "con.commit()\n",
    "\n",
    "# We can also close the connection if we are done with it.\n",
    "# Just be sure any changes have been committed or they will be lost.\n",
    "con.close()"
   ]
  },
  {
   "cell_type": "code",
   "execution_count": 17,
   "metadata": {},
   "outputs": [],
   "source": [
    "# SQL Statement -\n",
    "# UPDATE table_name\n",
    "# SET column1 = value1, column2 = value2, ...\n",
    "# WHERE condition;\n",
    "\n",
    "con = sqlite3.connect('patient_login.db')\n",
    "cur = con.cursor()\n",
    "\n",
    "# Create table\n",
    "cur.execute('''UPDATE PATIENT_LOGIN SET data_id = \"e4f1bd35-93ae-418b-b8cf-d39c3fbb069c\" WHERE id = \"5\"''')\n",
    "\n",
    "# Save (commit) the changes\n",
    "con.commit()\n",
    "\n",
    "# We can also close the connection if we are done with it.\n",
    "# Just be sure any changes have been committed or they will be lost.\n",
    "con.close()"
   ]
  },
  {
   "cell_type": "code",
   "execution_count": 22,
   "metadata": {},
   "outputs": [
    {
     "name": "stdout",
     "output_type": "stream",
     "text": [
      "1d604da9-9a81-4ba9-80c2-de3375d59b40\n"
     ]
    }
   ],
   "source": [
    "# SQL Statement -\n",
    "# UPDATE table_name\n",
    "# SET column1 = value1, column2 = value2, ...\n",
    "# WHERE condition;\n",
    "\n",
    "con = sqlite3.connect('patient_login.db')\n",
    "cur = con.cursor()\n",
    "\n",
    "email_id = \"leonardodicaprio@gmail.com\"\n",
    "\n",
    "# Create table\n",
    "query = \"SELECT data_id FROM PATIENT_LOGIN WHERE email_id = \" + \"'\" + email_id + \"'\"\n",
    "for i in cur.execute(query):\n",
    "    print(i[0])\n",
    "    patient_id = i[0]\n",
    "\n",
    "# Save (commit) the changes\n",
    "con.commit()\n",
    "\n",
    "# We can also close the connection if we are done with it.\n",
    "# Just be sure any changes have been committed or they will be lost.\n",
    "con.close()"
   ]
  },
  {
   "cell_type": "code",
   "execution_count": 9,
   "metadata": {},
   "outputs": [
    {
     "name": "stdout",
     "output_type": "stream",
     "text": [
      "['James Bond', 'John James', 'Michael Scott', 'Lindy Foster', 'Katherine Angelle', 'Cleo Quincy', 'Lilah Avonlea', 'Dirk Tevin', 'Nckolas Regena', 'Romaine Brooklynn', 'Rowena Marylou', 'Eliza Kester', 'Bernetta Moreen', 'Brynne Kayla', 'Maya Ford', 'Gene  Drea', 'Annabel Zula', 'Bradley Becci', 'Sasha Cindy', 'Dianna Vinny', 'Kayly Reannon', 'Mozelle Zavier', 'Dolores Ava', 'Eldon Jordyn', 'Lorene Charla', 'Katee Stacy', 'Shepherd Tawnya', 'Odell Midge', 'Makenna Katelynn', 'Mayson Gena']\n"
     ]
    }
   ],
   "source": [
    "# SQL Statement -\n",
    "# UPDATE table_name\n",
    "# SET column1 = value1, column2 = value2, ...\n",
    "# WHERE condition;\n",
    "\n",
    "con = sqlite3.connect('doctor_database.db')\n",
    "cur = con.cursor()\n",
    "\n",
    "doctor_first_name = []\n",
    "doctor_last_name = []\n",
    "\n",
    "# Create table\n",
    "query = \"SELECT first_name, last_name FROM DOCTOR_DETAILS\"\n",
    "for i in cur.execute(query):\n",
    "    doctor_first_name.append(i[0])\n",
    "    doctor_last_name.append(i[1])\n",
    "\n",
    "name = []\n",
    "for i in range(0, len(doctor_first_name)):\n",
    "    name_val = doctor_first_name[i] + \" \" + doctor_last_name[i]\n",
    "    name.append(name_val)\n",
    "print(name)\n",
    "    \n",
    "# Save (commit) the changes\n",
    "con.commit()\n",
    "\n",
    "# We can also close the connection if we are done with it.\n",
    "# Just be sure any changes have been committed or they will be lost.\n",
    "con.close()"
   ]
  },
  {
   "cell_type": "code",
   "execution_count": null,
   "metadata": {},
   "outputs": [],
   "source": [
    "query = \"INSERT INTO CERTIFICATE_REQUEST VALUES (\" + str(id) + \",\" + \"'\" + str(patient_id) + \",\" + \"'\" + full_name + \"'\" + \",\" + \"'\" + str(doctor_id) + \"'\" + \",\" + \"'\" + doctor_name + \"'\" + \",\" + \"'\" + reason + \"'\" + \",\" + \"'\" + requested_email_id + \"'\" + \")\"\n",
    "cur.execute(query)"
   ]
  },
  {
   "cell_type": "code",
   "execution_count": null,
   "metadata": {},
   "outputs": [],
   "source": []
  },
  {
   "cell_type": "code",
   "execution_count": null,
   "metadata": {},
   "outputs": [],
   "source": []
  },
  {
   "cell_type": "markdown",
   "metadata": {},
   "source": [
    "## Show Requested Certificates"
   ]
  },
  {
   "cell_type": "code",
   "execution_count": 9,
   "metadata": {},
   "outputs": [
    {
     "name": "stdout",
     "output_type": "stream",
     "text": [
      "[2, 1]\n",
      "['Carson Genna', 'Leonardo DiCaprio']\n",
      "['carsongenna@gmail.com', 'leonardodicaprio@gmail.com']\n"
     ]
    }
   ],
   "source": [
    "con = sqlite3.connect('doctor_database.db')\n",
    "cur = con.cursor()\n",
    "\n",
    "doctor_id = 1\n",
    "\n",
    "requested_patient_id = []\n",
    "requested_patient = []\n",
    "requested_patient_email_id = []\n",
    "\n",
    "# Create table\n",
    "query = \"SELECT patient_id,patient_name, email_id FROM CERTIFICATE_REQUEST WHERE doctor_id = \" + str(doctor_id)\n",
    "for i in cur.execute(query):\n",
    "    requested_patient_id.append(i[0])\n",
    "    requested_patient.append(i[1])\n",
    "    requested_patient_email_id.append(i[2])\n",
    "\n",
    "print(requested_patient_id)\n",
    "print(requested_patient)\n",
    "print(requested_patient_email_id)\n",
    "    \n",
    "con.commit()\n",
    "\n",
    "con.close()"
   ]
  },
  {
   "cell_type": "code",
   "execution_count": 11,
   "metadata": {},
   "outputs": [
    {
     "name": "stdout",
     "output_type": "stream",
     "text": [
      "['Leonardo DiCaprio']\n",
      "['University Requested ']\n"
     ]
    }
   ],
   "source": [
    "con = sqlite3.connect('doctor_database.db')\n",
    "cur = con.cursor()\n",
    "\n",
    "doctor_id = 1\n",
    "patient_id = 1\n",
    "\n",
    "requested_patient = []\n",
    "requested_reason = []\n",
    "\n",
    "# Create table\n",
    "query = \"SELECT patient_name, reason FROM CERTIFICATE_REQUEST WHERE patient_id = \" + str(patient_id) + \" AND doctor_id = \" + str(doctor_id)\n",
    "for i in cur.execute(query):\n",
    "    requested_patient.append(i[0])\n",
    "    requested_reason.append(i[1])\n",
    "\n",
    "print(requested_patient)\n",
    "print(requested_reason)\n",
    "    \n",
    "con.commit()\n",
    "\n",
    "con.close()"
   ]
  },
  {
   "cell_type": "code",
   "execution_count": 15,
   "metadata": {},
   "outputs": [
    {
     "data": {
      "text/plain": [
       "'2022-01-21T14:11:21.183233'"
      ]
     },
     "execution_count": 15,
     "metadata": {},
     "output_type": "execute_result"
    }
   ],
   "source": [
    "from datetime import datetime\n",
    "\n",
    "datetime.now().isoformat()"
   ]
  },
  {
   "cell_type": "code",
   "execution_count": null,
   "metadata": {},
   "outputs": [],
   "source": []
  },
  {
   "cell_type": "code",
   "execution_count": null,
   "metadata": {},
   "outputs": [],
   "source": []
  },
  {
   "cell_type": "markdown",
   "metadata": {},
   "source": [
    "## Creating Certificate Blockchain Table"
   ]
  },
  {
   "cell_type": "code",
   "execution_count": 20,
   "metadata": {},
   "outputs": [],
   "source": [
    "con = sqlite3.connect('doctor_database.db')\n",
    "cur = con.cursor()\n",
    "\n",
    "doctor_id = 1\n",
    "patient_id = 1\n",
    "\n",
    "requested_patient = []\n",
    "requested_reason = []\n",
    "\n",
    "# Create table\n",
    "cur.execute('''CREATE TABLE ISSUED_CERTIFICATES (id int, patient_name text, doctor_id int, doctor_name text, medical_condition text, severity text, days_for_rest text, hash text)''')\n",
    "    \n",
    "con.commit()\n",
    "\n",
    "con.close()"
   ]
  },
  {
   "cell_type": "code",
   "execution_count": 24,
   "metadata": {
    "scrolled": true
   },
   "outputs": [],
   "source": [
    "con = sqlite3.connect('doctor_database.db')\n",
    "cur = con.cursor()\n",
    "\n",
    "doctor_id = 1\n",
    "patient_id = 1\n",
    "\n",
    "requested_patient = []\n",
    "requested_reason = []\n",
    "\n",
    "# Create table\n",
    "query = \"INSERT INTO ISSUED_CERTIFICATES VALUES (1, \" + \"'\" + \"Leonardo DiCaprio\" + \"'\" + \",\" + str(5) + \",\" + \"'\" + \"Katherine Angelle\" + \"'\" + \",\" + \"'\" + \"Viral Fever\" + \"'\" + \",\" + \"'\" + \"Mild Severity\" + \"'\" + \",\" + \"'\" + \"1 Week of Rest\" + \"'\" + \",\" + \"'\" + \"8ca7c23ccc0b9e540af9ba0dd32a0be44ceb0ddfe09299ab5976244fae63af95\" + \"'\" + \")\"\n",
    "\n",
    "cur.execute(query)\n",
    "\n",
    "con.commit()\n",
    "\n",
    "con.close()"
   ]
  },
  {
   "cell_type": "code",
   "execution_count": null,
   "metadata": {},
   "outputs": [],
   "source": [
    "con = sqlite3.connect('doctor_database.db')\n",
    "cur = con.cursor()\n",
    "\n",
    "for val in cur.execute('''SELECT id FROM ISSUED_CERTIFICATES WHERE id=(SELECT max(id) FROM ISSUED_CERTIFICATES)'''):\n",
    "        id = val[0] + 1\n",
    "\n",
    "con.commit()\n",
    "\n",
    "con.close()\n",
    "\n",
    "con = sqlite3.connect('doctor_database.db')\n",
    "cur = con.cursor()\n",
    "\n",
    "doctor_id = 1\n",
    "patient_id = 1\n",
    "\n",
    "requested_patient = []\n",
    "requested_reason = []\n",
    "\n",
    "query = \"INSERT INTO ISSUED_CERTIFICATES VALUES (\" + str(id) + \",\" + \"'\" + {patient_name} + \"'\" + \",\" + str(doctor_id) + \",\" + \"'\" + {doctor_name} + \"'\" + \",\" + \"'\" + {medical_condition} + \"'\" + \",\" + \"'\" + {severity} + \"'\" + \",\" + \"'\" + {days_for_rest} + \"'\" + \",\" + \"'\" + {hash} + \"'\" + \")\"\n",
    "\n",
    "cur.execute(query)\n",
    "\n",
    "con.commit()\n",
    "\n",
    "con.close()"
   ]
  },
  {
   "cell_type": "code",
   "execution_count": 25,
   "metadata": {},
   "outputs": [
    {
     "name": "stdout",
     "output_type": "stream",
     "text": [
      "James Bond\n"
     ]
    }
   ],
   "source": [
    "con = sqlite3.connect('doctor_database.db')\n",
    "cur = con.cursor()\n",
    "\n",
    "query = \"SELECT doctor_name FROM CERTIFICATE_REQUEST WHERE doctor_id =\" + str(doctor_id)\n",
    "\n",
    "for i in cur.execute(query):\n",
    "    doctor_name = i[0]\n",
    "\n",
    "print(doctor_name)\n",
    "con.commit()\n",
    "\n",
    "con.close()"
   ]
  },
  {
   "cell_type": "code",
   "execution_count": null,
   "metadata": {},
   "outputs": [],
   "source": [
    "con = sqlite3.connect('doctor_database.db')\n",
    "cur = con.cursor()\n",
    "\n",
    "# # Create table\n",
    "# cur.execute('''CREATE TABLE CERTIFICATE_REQUEST\n",
    "#                (id int, patient_id int, patient_name text, doctor_id int, doctor_name text, reason text, email_id text)''')\n",
    "\n",
    "# Insert a row of data\n",
    "cur.execute(\"INSERT INTO CERTIFICATE_REQUEST VALUES (1, 2, 'Carson Genna', 1, 'James Bond', 'Requested by Univeristy', 'carsongenna@gmail.com')\")\n",
    "\n",
    "# Save (commit) the changes\n",
    "con.commit()\n",
    "\n",
    "# We can also close the connection if we are done with it.\n",
    "# Just be sure any changes have been committed or they will be lost.\n",
    "con.close()"
   ]
  },
  {
   "cell_type": "code",
   "execution_count": 11,
   "metadata": {},
   "outputs": [],
   "source": [
    "con = sqlite3.connect('doctor_database.db')\n",
    "cur = con.cursor()\n",
    "\n",
    "# # Create table\n",
    "# cur.execute('''DELETE FROM CERTIFICATE_REQUEST WHERE patient_id = 2''')\n",
    "\n",
    "# Insert a row of data\n",
    "cur.execute(\"INSERT INTO CERTIFICATE_REQUEST VALUES (1, 1, 'Leonardo DiCaprio', 1, 'James Bond', 'Requested By University', 'leonardodicaprio@gmail.com')\")\n",
    "\n",
    "# Save (commit) the changes\n",
    "con.commit()\n",
    "\n",
    "# We can also close the connection if we are done with it.\n",
    "# Just be sure any changes have been committed or they will be lost.\n",
    "con.close()"
   ]
  },
  {
   "cell_type": "code",
   "execution_count": 5,
   "metadata": {},
   "outputs": [],
   "source": [
    "# SQL Statement -\n",
    "# UPDATE table_name\n",
    "# SET column1 = value1, column2 = value2, ...\n",
    "# WHERE condition;\n",
    "\n",
    "con = sqlite3.connect('appointment_database.db')\n",
    "cur = con.cursor()\n",
    "\n",
    "# Create table\n",
    "cur.execute('''UPDATE SCHEDULED_APPOINTMENTS SET email_id = \"leonardodicapriomail@protonmail.com\" WHERE date = \"2022-02-11\"''')\n",
    "\n",
    "# Save (commit) the changes\n",
    "con.commit()\n",
    "\n",
    "# We can also close the connection if we are done with it.\n",
    "# Just be sure any changes have been committed or they will be lost.\n",
    "con.close()"
   ]
  },
  {
   "cell_type": "code",
   "execution_count": null,
   "metadata": {},
   "outputs": [],
   "source": []
  }
 ],
 "metadata": {
  "kernelspec": {
   "display_name": "Python 3",
   "language": "python",
   "name": "python3"
  },
  "language_info": {
   "codemirror_mode": {
    "name": "ipython",
    "version": 3
   },
   "file_extension": ".py",
   "mimetype": "text/x-python",
   "name": "python",
   "nbconvert_exporter": "python",
   "pygments_lexer": "ipython3",
   "version": "3.7.6"
  }
 },
 "nbformat": 4,
 "nbformat_minor": 5
}
