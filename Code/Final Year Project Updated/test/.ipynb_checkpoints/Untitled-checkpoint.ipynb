{
 "cells": [
  {
   "cell_type": "code",
   "execution_count": 3,
   "metadata": {},
   "outputs": [
    {
     "name": "stdout",
     "output_type": "stream",
     "text": [
      "The Dataset is \n",
      "[{'doctorName': 'Katherine Angelle', 'patientName': 'Leonardo DiCaprio', 'sensorId': 'ERDP-QT24', 'timestamp': '2022-01-08T22:42:14.969918', 'value': 0.59788477143754, 'hash': '8ca7c23ccc0b9e540af9ba0dd32a0be44ceb0ddfe09299ab5976244fae63af95', 'previous_hash': '4f64fe1ce613546d34d666d8258c13c6296820fd13114d784203feb91276e838'}, {'doctorName': 'James Bond', 'patientName': 'Carson Genna', 'sensorId': 'ERDP-QT24', 'timestamp': '2022-01-08T22:44:16.208271', 'value': 0.1378480046207523, 'hash': 'e6f78e2be1b2bebec4da9a9a93f6d3f0a958b0831d5683ac0db1a587fa609ba8', 'previous_hash': '8ca7c23ccc0b9e540af9ba0dd32a0be44ceb0ddfe09299ab5976244fae63af95'}, {'doctorName': 'Kayly Reannon', 'patientName': 'Leonardo DiCaprio', 'sensorId': 'ERDP-QT24', 'timestamp': '2022-01-08T22:49:39.720802', 'value': 0.27512675394000163, 'hash': '6dd4b04e4820d7eb8b308549eea2d772e58e1993f5756e405b5a150f47880736', 'previous_hash': 'e6f78e2be1b2bebec4da9a9a93f6d3f0a958b0831d5683ac0db1a587fa609ba8'}, {'doctorName': 'Annabel Zula', 'patientName': 'Mayson Gena', 'sensorId': 'ERDP-QT24', 'timestamp': '2022-01-08T22:51:22.127428', 'value': 0.11906597757022053, 'hash': '1c0b8838dec9d91a2c0c9c79c59b15c1f48cd03dec68c3a81c59f93329d491c0', 'previous_hash': '6dd4b04e4820d7eb8b308549eea2d772e58e1993f5756e405b5a150f47880736'}, {'doctorName': 'Lorene Charla', 'patientName': 'Carson Ezekiel', 'sensorId': 'ERDP-QT24', 'timestamp': '2022-01-08T22:53:40.210982', 'value': 0.7115422738206114, 'hash': '26001a8a88054179a38bae49e687e9dd59030a8836df7090875f8258326f1a9d', 'previous_hash': '1c0b8838dec9d91a2c0c9c79c59b15c1f48cd03dec68c3a81c59f93329d491c0'}, {'doctorName': 'James Bond', 'patientName': '', 'sensorId': 'ERDP-QT24', 'timestamp': '2022-01-21T14:44:00.292379', 'value': 0.24925462810238386, 'hash': 'b3666b53edfbe4eec30b4660c7373f9c27ddf0b9612ff89a6dac1909ac1989da', 'previous_hash': '26001a8a88054179a38bae49e687e9dd59030a8836df7090875f8258326f1a9d'}, {'doctorName': 'James Bond', 'patientName': 'Leonardo DiCaprio', 'sensorId': 'ERDP-QT24', 'timestamp': '2022-01-21T14:47:39.546604', 'value': 0.2801899495366744, 'hash': '3b2b7ff8c09ab71f4a71c89a2386a0dbfaf3c7783992d64142314644b7b032d8', 'previous_hash': 'b3666b53edfbe4eec30b4660c7373f9c27ddf0b9612ff89a6dac1909ac1989da'}, {'doctorName': 'James Bond', 'patientName': 'Leonardo DiCaprio', 'sensorId': 'ERDP-QT24', 'timestamp': '2022-01-21T14:49:16.113021', 'value': 0.8485974107107253, 'hash': '3ace185483c10862ca04b91086b52fd98a57a6bb57b787a81edf3849d0b89779', 'previous_hash': '3b2b7ff8c09ab71f4a71c89a2386a0dbfaf3c7783992d64142314644b7b032d8'}, {'doctorName': 'James Bond', 'patientName': 'Leonardo DiCaprio', 'sensorId': 'ERDP-QT24', 'timestamp': '2022-01-21T14:51:18.990888', 'value': 0.06583553721757529, 'hash': 'da702e4df51f2baffa730cba7ebf5b20223521af33f9eeb73754ed82a7c76bfa', 'previous_hash': '3ace185483c10862ca04b91086b52fd98a57a6bb57b787a81edf3849d0b89779'}, {'doctorName': 'James Bond', 'patientName': 'Leonardo DiCaprio', 'sensorId': 'ERDP-QT24', 'timestamp': '2022-01-21T14:52:26.214973', 'value': 0.26730071174741044, 'hash': '7b315890e8112bfb656a7eb0753cfcf3caa6473f094ed27524b6360bb7f3ed27', 'previous_hash': 'da702e4df51f2baffa730cba7ebf5b20223521af33f9eeb73754ed82a7c76bfa'}, {'doctorName': 'James Bond', 'patientName': 'Leonardo DiCaprio', 'sensorId': 'ERDP-QT24', 'timestamp': '2022-01-21T14:54:09.809261', 'value': 0.08947154663813917, 'hash': '1577306f59ddef64d060e51886cc480fcb83b1a551d34df51d6e4e100a37c8b2', 'previous_hash': '7b315890e8112bfb656a7eb0753cfcf3caa6473f094ed27524b6360bb7f3ed27'}, {'doctorName': 'James Bond', 'patientName': 'Leonardo DiCaprio', 'sensorId': 'ERDP-QT24', 'timestamp': '2022-01-21T14:56:52.108569', 'value': 0.7289505914810153, 'hash': '56b36bc3162291c740f43545b1894857af34417972a16a82a1ee018745ed75bd', 'previous_hash': '1577306f59ddef64d060e51886cc480fcb83b1a551d34df51d6e4e100a37c8b2'}, {'doctorName': 'James Bond', 'patientName': 'Leonardo DiCaprio', 'sensorId': 'ERDP-QT24', 'timestamp': '2022-01-21T14:59:29.234814', 'value': 0.1849139989686044, 'hash': 'f7daed7ef97fdec374a80fcdbb5c36623a7648f71fe941b2a11de38885cc3db9', 'previous_hash': '56b36bc3162291c740f43545b1894857af34417972a16a82a1ee018745ed75bd'}, {'doctorName': 'James Bond', 'patientName': 'Leonardo DiCaprio', 'sensorId': 'ERDP-QT24', 'timestamp': '2022-01-21T15:01:43.099403', 'value': 0.4755355878992811, 'hash': '0e7abce9dd09edc909a4c7ccccd623f947573bb1e8d9c07c88f2ca537cbde858', 'previous_hash': 'f7daed7ef97fdec374a80fcdbb5c36623a7648f71fe941b2a11de38885cc3db9'}, {'doctorName': 'James Bond', 'patientName': 'Leonardo DiCaprio', 'sensorId': 'ERDP-QT24', 'timestamp': '2022-01-21T15:03:55.654170', 'value': 0.5969488703494368, 'hash': '9df034c120e89c1a8a697c567daaacab1df16659b161a1f871d5932a53db46a5', 'previous_hash': '0e7abce9dd09edc909a4c7ccccd623f947573bb1e8d9c07c88f2ca537cbde858'}, {'doctorName': 'James Bond', 'patientName': 'Leonardo DiCaprio', 'sensorId': 'ERDP-QT24', 'timestamp': '2022-01-21T15:43:20.577050', 'value': 0.04662756650424371, 'hash': '6c1b68c7ac127fb91ff9cd69be3b85aca7749510700975a0cdf7a2d760463952', 'previous_hash': '9df034c120e89c1a8a697c567daaacab1df16659b161a1f871d5932a53db46a5'}, {'doctorName': 'James Bond', 'patientName': 'Leonardo DiCaprio', 'sensorId': 'ERDP-QT24', 'timestamp': '2022-01-21T15:53:39.684617', 'value': 0.6677360951942917, 'hash': '6a25ea08e7fbe1c6643809640b00a34636edf69fd4cc3d1d4dbcd5ffb7a3640e', 'previous_hash': '6c1b68c7ac127fb91ff9cd69be3b85aca7749510700975a0cdf7a2d760463952'}, {'doctorName': 'James Bond', 'patientName': 'Leonardo DiCaprio', 'sensorId': 'ERDP-QT24', 'timestamp': '2022-01-21T15:54:40.099189', 'value': 0.618476080038721, 'hash': 'c5f67fbbb72f29196d5134b7920296c85adc1429a3317fd5ac8dfda811b70f07', 'previous_hash': '6a25ea08e7fbe1c6643809640b00a34636edf69fd4cc3d1d4dbcd5ffb7a3640e'}, {'doctorName': 'James Bond', 'patientName': 'Leonardo DiCaprio', 'sensorId': 'ERDP-QT24', 'timestamp': '2022-01-21T16:02:22.757555', 'value': 0.34216938021357546, 'hash': 'aa2e80ccc8ee1cb85ef89987192aedfd252ff6e2271e80dfd993ee301d3100c8', 'previous_hash': 'c5f67fbbb72f29196d5134b7920296c85adc1429a3317fd5ac8dfda811b70f07'}, {'doctorName': 'James Bond', 'patientName': 'Leonardo DiCaprio', 'sensorId': 'ERDP-QT24', 'timestamp': '2022-01-21T16:03:17.093165', 'value': 0.7602605215092183, 'hash': '579ccc6da06a85d94dc2d1697aab16a7232b02b57c13e0a850e7b680dc3767e7', 'previous_hash': 'aa2e80ccc8ee1cb85ef89987192aedfd252ff6e2271e80dfd993ee301d3100c8'}, {'doctorName': 'James Bond', 'patientName': 'Leonardo DiCaprio', 'sensorId': 'ERDP-QT24', 'timestamp': '2022-01-22T10:54:38.535174', 'value': 0.9170124430248041, 'hash': '77707f80328ef50ffe699474ebda472d5c7bee2a8442e47dbf7112eb2913fb9f', 'previous_hash': '579ccc6da06a85d94dc2d1697aab16a7232b02b57c13e0a850e7b680dc3767e7'}, {'doctorName': 'James Bond', 'patientName': 'Leonardo DiCaprio', 'sensorId': 'ERDP-QT24', 'timestamp': '2022-01-22T11:32:50.506672', 'value': 0.9302038171610718, 'hash': '7d007d8b17f9b9b5902a571ba8763dba7098cc4fa841a204d5665cb604c00dda', 'previous_hash': '77707f80328ef50ffe699474ebda472d5c7bee2a8442e47dbf7112eb2913fb9f'}, {'doctorName': 'James Bond', 'patientName': 'Leonardo DiCaprio', 'sensorId': 'ERDP-QT24', 'timestamp': '2022-01-29T02:09:25.732360', 'value': 0.3390759959243518, 'hash': '469a5a8f527d17564b40bf24556d3c9ba1f6254441bb76b07a43abc8343809b2', 'previous_hash': '7d007d8b17f9b9b5902a571ba8763dba7098cc4fa841a204d5665cb604c00dda'}, {'doctorName': 'James Bond', 'patientName': ['Carson Genna'], 'sensorId': 'ERDP-QT24', 'timestamp': '2022-01-29T02:13:57.596982', 'value': 0.08673503334881871, 'hash': '301228027dceca27fff5a0ecdbb41d375a2bd10fcdafc725aaf7cd439877304b', 'previous_hash': '469a5a8f527d17564b40bf24556d3c9ba1f6254441bb76b07a43abc8343809b2'}, {'doctorName': 'James Bond', 'patientName': 'Carson Genna', 'sensorId': 'ERDP-QT24', 'timestamp': '2022-01-29T02:15:00.063438', 'value': 0.014376531121891634, 'hash': 'ce9d56752e6097b937ef3642370acea11f82287a3044dda5336c3ea99283e89e', 'previous_hash': '301228027dceca27fff5a0ecdbb41d375a2bd10fcdafc725aaf7cd439877304b'}, {'doctorName': 'James Bond', 'patientName': 'Leonardo DiCaprio', 'sensorId': 'ERDP-QT24', 'timestamp': '2022-01-29T02:26:37.626595', 'value': 0.39064915263928046, 'hash': 'ab4dd32afa221a9a84a1344b87c1c2dcacbca8fc94fa6ed2768c9513167a4f87', 'previous_hash': 'ce9d56752e6097b937ef3642370acea11f82287a3044dda5336c3ea99283e89e'}, {'doctorName': 'James Bond', 'patientName': 'Leonardo DiCaprio', 'sensorId': 'ERDP-QT24', 'timestamp': '2022-01-29T02:27:40.493777', 'value': 0.04349740127483992, 'hash': 'a44ca885b0c48ee9be9479b3d0e7da3ee37dd7536129df69eef5f0746cc3eb4e', 'previous_hash': 'ab4dd32afa221a9a84a1344b87c1c2dcacbca8fc94fa6ed2768c9513167a4f87'}, {'doctorName': 'James Bond', 'patientName': 'Leonardo DiCaprio', 'sensorId': 'ERDP-QT24', 'timestamp': '2022-01-29T02:30:16.184947', 'value': 0.25252396380428244, 'hash': '14fafc343f43e343234b58131aa26b71826edb636351cb43eecc5072cebba77c', 'previous_hash': 'a44ca885b0c48ee9be9479b3d0e7da3ee37dd7536129df69eef5f0746cc3eb4e'}]\n",
      "The Key is \n",
      "ERDP-QT24\n"
     ]
    },
    {
     "name": "stdout",
     "output_type": "stream",
     "text": [
      "[{'doctorName': 'Katherine Angelle', 'patientName': 'Leonardo DiCaprio', 'sensorId': 'ERDP-QT24', 'timestamp': '2022-01-08T22:42:14.969918', 'value': 0.59788477143754, 'hash': '8ca7c23ccc0b9e540af9ba0dd32a0be44ceb0ddfe09299ab5976244fae63af95', 'previous_hash': '4f64fe1ce613546d34d666d8258c13c6296820fd13114d784203feb91276e838'}, {'doctorName': 'James Bond', 'patientName': 'Carson Genna', 'sensorId': 'ERDP-QT24', 'timestamp': '2022-01-08T22:44:16.208271', 'value': 0.1378480046207523, 'hash': 'e6f78e2be1b2bebec4da9a9a93f6d3f0a958b0831d5683ac0db1a587fa609ba8', 'previous_hash': '8ca7c23ccc0b9e540af9ba0dd32a0be44ceb0ddfe09299ab5976244fae63af95'}, {'doctorName': 'Kayly Reannon', 'patientName': 'Leonardo DiCaprio', 'sensorId': 'ERDP-QT24', 'timestamp': '2022-01-08T22:49:39.720802', 'value': 0.27512675394000163, 'hash': '6dd4b04e4820d7eb8b308549eea2d772e58e1993f5756e405b5a150f47880736', 'previous_hash': 'e6f78e2be1b2bebec4da9a9a93f6d3f0a958b0831d5683ac0db1a587fa609ba8'}, {'doctorName': 'Annabel Zula', 'patientName': 'Mayson Gena', 'sensorId': 'ERDP-QT24', 'timestamp': '2022-01-08T22:51:22.127428', 'value': 0.11906597757022053, 'hash': '1c0b8838dec9d91a2c0c9c79c59b15c1f48cd03dec68c3a81c59f93329d491c0', 'previous_hash': '6dd4b04e4820d7eb8b308549eea2d772e58e1993f5756e405b5a150f47880736'}, {'doctorName': 'Lorene Charla', 'patientName': 'Carson Ezekiel', 'sensorId': 'ERDP-QT24', 'timestamp': '2022-01-08T22:53:40.210982', 'value': 0.7115422738206114, 'hash': '26001a8a88054179a38bae49e687e9dd59030a8836df7090875f8258326f1a9d', 'previous_hash': '1c0b8838dec9d91a2c0c9c79c59b15c1f48cd03dec68c3a81c59f93329d491c0'}, {'doctorName': 'James Bond', 'patientName': '', 'sensorId': 'ERDP-QT24', 'timestamp': '2022-01-21T14:44:00.292379', 'value': 0.24925462810238386, 'hash': 'b3666b53edfbe4eec30b4660c7373f9c27ddf0b9612ff89a6dac1909ac1989da', 'previous_hash': '26001a8a88054179a38bae49e687e9dd59030a8836df7090875f8258326f1a9d'}, {'doctorName': 'James Bond', 'patientName': 'Leonardo DiCaprio', 'sensorId': 'ERDP-QT24', 'timestamp': '2022-01-21T14:47:39.546604', 'value': 0.2801899495366744, 'hash': '3b2b7ff8c09ab71f4a71c89a2386a0dbfaf3c7783992d64142314644b7b032d8', 'previous_hash': 'b3666b53edfbe4eec30b4660c7373f9c27ddf0b9612ff89a6dac1909ac1989da'}, {'doctorName': 'James Bond', 'patientName': 'Leonardo DiCaprio', 'sensorId': 'ERDP-QT24', 'timestamp': '2022-01-21T14:49:16.113021', 'value': 0.8485974107107253, 'hash': '3ace185483c10862ca04b91086b52fd98a57a6bb57b787a81edf3849d0b89779', 'previous_hash': '3b2b7ff8c09ab71f4a71c89a2386a0dbfaf3c7783992d64142314644b7b032d8'}, {'doctorName': 'James Bond', 'patientName': 'Leonardo DiCaprio', 'sensorId': 'ERDP-QT24', 'timestamp': '2022-01-21T14:51:18.990888', 'value': 0.06583553721757529, 'hash': 'da702e4df51f2baffa730cba7ebf5b20223521af33f9eeb73754ed82a7c76bfa', 'previous_hash': '3ace185483c10862ca04b91086b52fd98a57a6bb57b787a81edf3849d0b89779'}, {'doctorName': 'James Bond', 'patientName': 'Leonardo DiCaprio', 'sensorId': 'ERDP-QT24', 'timestamp': '2022-01-21T14:52:26.214973', 'value': 0.26730071174741044, 'hash': '7b315890e8112bfb656a7eb0753cfcf3caa6473f094ed27524b6360bb7f3ed27', 'previous_hash': 'da702e4df51f2baffa730cba7ebf5b20223521af33f9eeb73754ed82a7c76bfa'}, {'doctorName': 'James Bond', 'patientName': 'Leonardo DiCaprio', 'sensorId': 'ERDP-QT24', 'timestamp': '2022-01-21T14:54:09.809261', 'value': 0.08947154663813917, 'hash': '1577306f59ddef64d060e51886cc480fcb83b1a551d34df51d6e4e100a37c8b2', 'previous_hash': '7b315890e8112bfb656a7eb0753cfcf3caa6473f094ed27524b6360bb7f3ed27'}, {'doctorName': 'James Bond', 'patientName': 'Leonardo DiCaprio', 'sensorId': 'ERDP-QT24', 'timestamp': '2022-01-21T14:56:52.108569', 'value': 0.7289505914810153, 'hash': '56b36bc3162291c740f43545b1894857af34417972a16a82a1ee018745ed75bd', 'previous_hash': '1577306f59ddef64d060e51886cc480fcb83b1a551d34df51d6e4e100a37c8b2'}, {'doctorName': 'James Bond', 'patientName': 'Leonardo DiCaprio', 'sensorId': 'ERDP-QT24', 'timestamp': '2022-01-21T14:59:29.234814', 'value': 0.1849139989686044, 'hash': 'f7daed7ef97fdec374a80fcdbb5c36623a7648f71fe941b2a11de38885cc3db9', 'previous_hash': '56b36bc3162291c740f43545b1894857af34417972a16a82a1ee018745ed75bd'}, {'doctorName': 'James Bond', 'patientName': 'Leonardo DiCaprio', 'sensorId': 'ERDP-QT24', 'timestamp': '2022-01-21T15:01:43.099403', 'value': 0.4755355878992811, 'hash': '0e7abce9dd09edc909a4c7ccccd623f947573bb1e8d9c07c88f2ca537cbde858', 'previous_hash': 'f7daed7ef97fdec374a80fcdbb5c36623a7648f71fe941b2a11de38885cc3db9'}, {'doctorName': 'James Bond', 'patientName': 'Leonardo DiCaprio', 'sensorId': 'ERDP-QT24', 'timestamp': '2022-01-21T15:03:55.654170', 'value': 0.5969488703494368, 'hash': '9df034c120e89c1a8a697c567daaacab1df16659b161a1f871d5932a53db46a5', 'previous_hash': '0e7abce9dd09edc909a4c7ccccd623f947573bb1e8d9c07c88f2ca537cbde858'}, {'doctorName': 'James Bond', 'patientName': 'Leonardo DiCaprio', 'sensorId': 'ERDP-QT24', 'timestamp': '2022-01-21T15:43:20.577050', 'value': 0.04662756650424371, 'hash': '6c1b68c7ac127fb91ff9cd69be3b85aca7749510700975a0cdf7a2d760463952', 'previous_hash': '9df034c120e89c1a8a697c567daaacab1df16659b161a1f871d5932a53db46a5'}, {'doctorName': 'James Bond', 'patientName': 'Leonardo DiCaprio', 'sensorId': 'ERDP-QT24', 'timestamp': '2022-01-21T15:53:39.684617', 'value': 0.6677360951942917, 'hash': '6a25ea08e7fbe1c6643809640b00a34636edf69fd4cc3d1d4dbcd5ffb7a3640e', 'previous_hash': '6c1b68c7ac127fb91ff9cd69be3b85aca7749510700975a0cdf7a2d760463952'}, {'doctorName': 'James Bond', 'patientName': 'Leonardo DiCaprio', 'sensorId': 'ERDP-QT24', 'timestamp': '2022-01-21T15:54:40.099189', 'value': 0.618476080038721, 'hash': 'c5f67fbbb72f29196d5134b7920296c85adc1429a3317fd5ac8dfda811b70f07', 'previous_hash': '6a25ea08e7fbe1c6643809640b00a34636edf69fd4cc3d1d4dbcd5ffb7a3640e'}, {'doctorName': 'James Bond', 'patientName': 'Leonardo DiCaprio', 'sensorId': 'ERDP-QT24', 'timestamp': '2022-01-21T16:02:22.757555', 'value': 0.34216938021357546, 'hash': 'aa2e80ccc8ee1cb85ef89987192aedfd252ff6e2271e80dfd993ee301d3100c8', 'previous_hash': 'c5f67fbbb72f29196d5134b7920296c85adc1429a3317fd5ac8dfda811b70f07'}, {'doctorName': 'James Bond', 'patientName': 'Leonardo DiCaprio', 'sensorId': 'ERDP-QT24', 'timestamp': '2022-01-21T16:03:17.093165', 'value': 0.7602605215092183, 'hash': '579ccc6da06a85d94dc2d1697aab16a7232b02b57c13e0a850e7b680dc3767e7', 'previous_hash': 'aa2e80ccc8ee1cb85ef89987192aedfd252ff6e2271e80dfd993ee301d3100c8'}, {'doctorName': 'James Bond', 'patientName': 'Leonardo DiCaprio', 'sensorId': 'ERDP-QT24', 'timestamp': '2022-01-22T10:54:38.535174', 'value': 0.9170124430248041, 'hash': '77707f80328ef50ffe699474ebda472d5c7bee2a8442e47dbf7112eb2913fb9f', 'previous_hash': '579ccc6da06a85d94dc2d1697aab16a7232b02b57c13e0a850e7b680dc3767e7'}, {'doctorName': 'James Bond', 'patientName': 'Leonardo DiCaprio', 'sensorId': 'ERDP-QT24', 'timestamp': '2022-01-22T11:32:50.506672', 'value': 0.9302038171610718, 'hash': '7d007d8b17f9b9b5902a571ba8763dba7098cc4fa841a204d5665cb604c00dda', 'previous_hash': '77707f80328ef50ffe699474ebda472d5c7bee2a8442e47dbf7112eb2913fb9f'}, {'doctorName': 'James Bond', 'patientName': 'Leonardo DiCaprio', 'sensorId': 'ERDP-QT24', 'timestamp': '2022-01-29T02:09:25.732360', 'value': 0.3390759959243518, 'hash': '469a5a8f527d17564b40bf24556d3c9ba1f6254441bb76b07a43abc8343809b2', 'previous_hash': '7d007d8b17f9b9b5902a571ba8763dba7098cc4fa841a204d5665cb604c00dda'}, {'doctorName': 'James Bond', 'patientName': ['Carson Genna'], 'sensorId': 'ERDP-QT24', 'timestamp': '2022-01-29T02:13:57.596982', 'value': 0.08673503334881871, 'hash': '301228027dceca27fff5a0ecdbb41d375a2bd10fcdafc725aaf7cd439877304b', 'previous_hash': '469a5a8f527d17564b40bf24556d3c9ba1f6254441bb76b07a43abc8343809b2'}, {'doctorName': 'James Bond', 'patientName': 'Carson Genna', 'sensorId': 'ERDP-QT24', 'timestamp': '2022-01-29T02:15:00.063438', 'value': 0.014376531121891634, 'hash': 'ce9d56752e6097b937ef3642370acea11f82287a3044dda5336c3ea99283e89e', 'previous_hash': '301228027dceca27fff5a0ecdbb41d375a2bd10fcdafc725aaf7cd439877304b'}, {'doctorName': 'James Bond', 'patientName': 'Leonardo DiCaprio', 'sensorId': 'ERDP-QT24', 'timestamp': '2022-01-29T02:26:37.626595', 'value': 0.39064915263928046, 'hash': 'ab4dd32afa221a9a84a1344b87c1c2dcacbca8fc94fa6ed2768c9513167a4f87', 'previous_hash': 'ce9d56752e6097b937ef3642370acea11f82287a3044dda5336c3ea99283e89e'}, {'doctorName': 'James Bond', 'patientName': 'Leonardo DiCaprio', 'sensorId': 'ERDP-QT24', 'timestamp': '2022-01-29T02:27:40.493777', 'value': 0.04349740127483992, 'hash': 'a44ca885b0c48ee9be9479b3d0e7da3ee37dd7536129df69eef5f0746cc3eb4e', 'previous_hash': 'ab4dd32afa221a9a84a1344b87c1c2dcacbca8fc94fa6ed2768c9513167a4f87'}, {'doctorName': 'James Bond', 'patientName': 'Leonardo DiCaprio', 'sensorId': 'ERDP-QT24', 'timestamp': '2022-01-29T02:30:16.184947', 'value': 0.25252396380428244, 'hash': '14fafc343f43e343234b58131aa26b71826edb636351cb43eecc5072cebba77c', 'previous_hash': 'a44ca885b0c48ee9be9479b3d0e7da3ee37dd7536129df69eef5f0746cc3eb4e'}]\n",
      "<class 'dict'>\n"
     ]
    },
    {
     "ename": "NameError",
     "evalue": "name 'source_list' is not defined",
     "output_type": "error",
     "traceback": [
      "\u001b[0;31m---------------------------------------------------------------------------\u001b[0m",
      "\u001b[0;31mNameError\u001b[0m                                 Traceback (most recent call last)",
      "\u001b[0;32m<ipython-input-3-2429e4febc43>\u001b[0m in \u001b[0;36m<module>\u001b[0;34m\u001b[0m\n\u001b[1;32m     53\u001b[0m \u001b[0;34m\u001b[0m\u001b[0m\n\u001b[1;32m     54\u001b[0m \u001b[0;34m\u001b[0m\u001b[0m\n\u001b[0;32m---> 55\u001b[0;31m \u001b[0;32mif\u001b[0m \u001b[0many\u001b[0m\u001b[0;34m(\u001b[0m\u001b[0md\u001b[0m\u001b[0;34m[\u001b[0m\u001b[0;34m'hash'\u001b[0m\u001b[0;34m]\u001b[0m \u001b[0;34m==\u001b[0m \u001b[0mdict\u001b[0m\u001b[0;34m(\u001b[0m\u001b[0msource_list\u001b[0m\u001b[0;34m[\u001b[0m\u001b[0;36m0\u001b[0m\u001b[0;34m]\u001b[0m\u001b[0;34m)\u001b[0m\u001b[0;34m[\u001b[0m\u001b[0;34m'hash'\u001b[0m\u001b[0;34m]\u001b[0m \u001b[0;32mfor\u001b[0m \u001b[0md\u001b[0m \u001b[0;32min\u001b[0m \u001b[0mdataset\u001b[0m\u001b[0;34m)\u001b[0m\u001b[0;34m:\u001b[0m\u001b[0;34m\u001b[0m\u001b[0;34m\u001b[0m\u001b[0m\n\u001b[0m\u001b[1;32m     56\u001b[0m     \u001b[0mprint\u001b[0m\u001b[0;34m(\u001b[0m\u001b[0;34m\"The Data was Found\"\u001b[0m\u001b[0;34m)\u001b[0m\u001b[0;34m\u001b[0m\u001b[0;34m\u001b[0m\u001b[0m\n\u001b[1;32m     57\u001b[0m \u001b[0;32melse\u001b[0m\u001b[0;34m:\u001b[0m\u001b[0;34m\u001b[0m\u001b[0;34m\u001b[0m\u001b[0m\n",
      "\u001b[0;32m<ipython-input-3-2429e4febc43>\u001b[0m in \u001b[0;36m<genexpr>\u001b[0;34m(.0)\u001b[0m\n\u001b[1;32m     53\u001b[0m \u001b[0;34m\u001b[0m\u001b[0m\n\u001b[1;32m     54\u001b[0m \u001b[0;34m\u001b[0m\u001b[0m\n\u001b[0;32m---> 55\u001b[0;31m \u001b[0;32mif\u001b[0m \u001b[0many\u001b[0m\u001b[0;34m(\u001b[0m\u001b[0md\u001b[0m\u001b[0;34m[\u001b[0m\u001b[0;34m'hash'\u001b[0m\u001b[0;34m]\u001b[0m \u001b[0;34m==\u001b[0m \u001b[0mdict\u001b[0m\u001b[0;34m(\u001b[0m\u001b[0msource_list\u001b[0m\u001b[0;34m[\u001b[0m\u001b[0;36m0\u001b[0m\u001b[0;34m]\u001b[0m\u001b[0;34m)\u001b[0m\u001b[0;34m[\u001b[0m\u001b[0;34m'hash'\u001b[0m\u001b[0;34m]\u001b[0m \u001b[0;32mfor\u001b[0m \u001b[0md\u001b[0m \u001b[0;32min\u001b[0m \u001b[0mdataset\u001b[0m\u001b[0;34m)\u001b[0m\u001b[0;34m:\u001b[0m\u001b[0;34m\u001b[0m\u001b[0;34m\u001b[0m\u001b[0m\n\u001b[0m\u001b[1;32m     56\u001b[0m     \u001b[0mprint\u001b[0m\u001b[0;34m(\u001b[0m\u001b[0;34m\"The Data was Found\"\u001b[0m\u001b[0;34m)\u001b[0m\u001b[0;34m\u001b[0m\u001b[0;34m\u001b[0m\u001b[0m\n\u001b[1;32m     57\u001b[0m \u001b[0;32melse\u001b[0m\u001b[0;34m:\u001b[0m\u001b[0;34m\u001b[0m\u001b[0;34m\u001b[0m\u001b[0m\n",
      "\u001b[0;31mNameError\u001b[0m: name 'source_list' is not defined"
     ]
    }
   ],
   "source": [
    "from hashchain import records, ethereum\n",
    "import json\n",
    "\n",
    "val_data = [{\"doctorName\": \"James Bond\", \"patientName\": \"Carson Genna\", \"sensorId\": \"ERDP-QT24\", \"timestamp\": \"2022-01-08T22:44:16.208271\", \"value\": 0.1378480046207523, \"hash\": \"e6f78e2be1b2bebec4da9a9a93f6d3f0a958b0831d5683ac0db1a587fa609ba8\", \"previous_hash\": \"8ca7c23ccc0b9e540af9ba0dd32a0be44ceb0ddfe09299ab5976244fae63af95\"}]\n",
    "\n",
    "source_list = val_data\n",
    "\n",
    "# Set local JSON file as database\n",
    "DATABASE = 'jsonDB.JSON'\n",
    "\n",
    "with open(DATABASE) as file:\n",
    "    dataset = json.load(file)\n",
    "\n",
    "# Get inputs\n",
    "ETH_PRIVATE_KEY = 'e9e1530ea75878a7016ebdd7ff91dd91ea4d7b293fa0ef5c4a064cb9cf1c23dc'\n",
    "ETH_PUBLIC_KEY = '0x60577487A04B1DDa019565B883102457F27712Ec'\n",
    "ETH_PROVIDER_URL = 'https://ropsten.infura.io/v3/9945375fabac486dba1b7c88b2d5f8e2'\n",
    "\n",
    "# Get Eth contract interface. Deploy one if not existing\n",
    "try:\n",
    "    with open('contract_interface.JSON') as file:\n",
    "        contract_interface = json.load(file)\n",
    "\n",
    "except FileNotFoundError:\n",
    "    print('Deploying contract ...')\n",
    "    contract = ethereum.EthContract()\n",
    "    contract.deploy(ETH_PUBLIC_KEY, ETH_PRIVATE_KEY, ETH_PROVIDER_URL)\n",
    "    contract.get_txn_receipt()\n",
    "    print('Contract deployed. Address: {}'.format(contract.address))\n",
    "\n",
    "    contract_interface = dict(address=contract.address, abi=contract.abi)\n",
    "    with open('contract_interface.JSON', 'w+') as file:\n",
    "        json.dump(contract_interface, file)\n",
    "\n",
    "# Build Ethereum connector\n",
    "connector = ethereum.EthConnector(\n",
    "    contract_abi=contract_interface['abi'],\n",
    "    contract_address=contract_interface['address'],\n",
    "    sender_public_key=ETH_PUBLIC_KEY,\n",
    "    sender_private_key=ETH_PRIVATE_KEY,\n",
    "    provider_url=ETH_PROVIDER_URL\n",
    ")\n",
    "\n",
    "# Verify database integrity\n",
    "if records.verify(dataset[::-1]):\n",
    "    key = 'ERDP-QT24'\n",
    "    print(f\"The Dataset is \\n{dataset}\")\n",
    "    print(f\"The Key is \\n{key}\")\n",
    "    if dataset[-1]['hash'] != connector.get_record(key):\n",
    "        raise ValueError('The hash registered on chain do not correspond to the last hash from the database')\n",
    "\n",
    "\n",
    "print(dataset)\n",
    "print(type(dataset[0]))\n",
    "\n",
    "\n",
    "\n",
    "if any(d['hash'] == dict(source_list[0])['hash'] for d in dataset):\n",
    "    print(\"The Data was Found\")\n",
    "else:\n",
    "    print(\"The Data was Not Found\")"
   ]
  },
  {
   "cell_type": "code",
   "execution_count": null,
   "metadata": {},
   "outputs": [],
   "source": []
  }
 ],
 "metadata": {
  "kernelspec": {
   "display_name": "Python 3",
   "language": "python",
   "name": "python3"
  },
  "language_info": {
   "codemirror_mode": {
    "name": "ipython",
    "version": 3
   },
   "file_extension": ".py",
   "mimetype": "text/x-python",
   "name": "python",
   "nbconvert_exporter": "python",
   "pygments_lexer": "ipython3",
   "version": "3.7.6"
  }
 },
 "nbformat": 4,
 "nbformat_minor": 4
}
