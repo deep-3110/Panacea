{
 "cells": [
  {
   "cell_type": "code",
   "execution_count": 1,
   "metadata": {},
   "outputs": [],
   "source": [
    "import requests\n",
    "import json"
   ]
  },
  {
   "cell_type": "code",
   "execution_count": 3,
   "metadata": {},
   "outputs": [
    {
     "name": "stdout",
     "output_type": "stream",
     "text": [
      "{'Content-Type': 'application/json'}\n",
      "{'text': 'Deep is an asshole and he has hernia and hemmorage'}\n",
      "https://prod-92.eastus.logic.azure.com:443/workflows/13e932579f28457d898c99e70f3fca3a/triggers/manual/paths/invoke?api-version=2016-10-01&sp=%2Ftriggers%2Fmanual%2Frun&sv=1.0&sig=-GaClSwSHk5Cr2KL4nAVB8yQOmA7OTClbtqTCoriS68\n"
     ]
    }
   ],
   "source": [
    "myheader = {\"Content-Type\":\"application/json\"}\n",
    "print(myheader)\n",
    "mydata={\"text\":\"Deep is an asshole and he has hernia and hemmorage\"}\n",
    "##mydata=\"i have cough and cold. My heart rate is 93 bpm\"\n",
    "print(mydata)\n",
    "api_url='https://prod-92.eastus.logic.azure.com:443/workflows/13e932579f28457d898c99e70f3fca3a/triggers/manual/paths/invoke?api-version=2016-10-01&sp=%2Ftriggers%2Fmanual%2Frun&sv=1.0&sig=-GaClSwSHk5Cr2KL4nAVB8yQOmA7OTClbtqTCoriS68'\n",
    "print(api_url)"
   ]
  },
  {
   "cell_type": "code",
   "execution_count": 4,
   "metadata": {},
   "outputs": [
    {
     "name": "stdout",
     "output_type": "stream",
     "text": [
      "{'jobId': 'd7bf5e3d-d97f-4026-a25b-1762c5077928', 'lastUpdateDateTime': '2022-03-09T17:11:54Z', 'createdDateTime': '2022-03-09T17:11:53Z', 'expirationDateTime': '2022-03-10T17:11:53Z', 'status': 'succeeded', 'errors': [], 'results': {'documents': [{'id': '1', 'entities': [{'offset': 11, 'length': 7, 'text': 'asshole', 'category': 'BodyStructure', 'confidenceScore': 1.0}, {'offset': 30, 'length': 6, 'text': 'hernia', 'category': 'Diagnosis', 'confidenceScore': 0.59, 'name': 'Hernia', 'links': [{'dataSource': 'UMLS', 'id': 'C0019270'}, {'dataSource': 'AOD', 'id': '0000004460'}, {'dataSource': 'BI', 'id': 'BI00271'}, {'dataSource': 'CCPSS', 'id': '1006190'}, {'dataSource': 'CHV', 'id': '0000006079'}, {'dataSource': 'COSTAR', 'id': '360'}, {'dataSource': 'CSP', 'id': '0944-5779'}, {'dataSource': 'CST', 'id': 'HERNIA'}, {'dataSource': 'HPO', 'id': 'HP:0100790'}, {'dataSource': 'ICD10', 'id': 'K40-K46.9'}, {'dataSource': 'ICD10AM', 'id': 'K40-K46.9'}, {'dataSource': 'ICD10CM', 'id': 'K46'}, {'dataSource': 'ICPC2ICD10ENG', 'id': 'MTHU034462'}, {'dataSource': 'ICPC2P', 'id': 'D91001'}, {'dataSource': 'LCH', 'id': 'U002183'}, {'dataSource': 'LCH_NW', 'id': 'sh85060424'}, {'dataSource': 'MDR', 'id': '10019909'}, {'dataSource': 'MEDCIN', 'id': '96160'}, {'dataSource': 'MEDLINEPLUS', 'id': '283'}, {'dataSource': 'MSH', 'id': 'D006547'}, {'dataSource': 'NCI', 'id': 'C34685'}, {'dataSource': 'NCI_CDISC', 'id': 'C34685'}, {'dataSource': 'NCI_CTRP', 'id': 'C34685'}, {'dataSource': 'NCI_FDA', 'id': '2240'}, {'dataSource': 'NCI_NCI-GLOSS', 'id': 'CDR0000630906'}, {'dataSource': 'NCI_NICHD', 'id': 'C34685'}, {'dataSource': 'OMIM', 'id': 'MTHU012924'}, {'dataSource': 'PDQ', 'id': 'CDR0000682551'}, {'dataSource': 'RCD', 'id': 'Xa0FV'}, {'dataSource': 'SNM', 'id': 'M-31600'}, {'dataSource': 'SNMI', 'id': 'M-31500'}, {'dataSource': 'SNOMEDCT_US', 'id': '414403008'}, {'dataSource': 'WHO', 'id': '1832'}]}, {'offset': 41, 'length': 9, 'text': 'hemmorage', 'category': 'SymptomOrSign', 'confidenceScore': 0.99}], 'relations': [{'relationType': 'BodySiteOfCondition', 'entities': [{'ref': '#/results/documents/0/entities/0', 'role': 'BodyStructure'}, {'ref': '#/results/documents/0/entities/1', 'role': 'Condition'}]}], 'warnings': []}], 'errors': [], 'modelVersion': '2021-05-15'}}\n"
     ]
    }
   ],
   "source": [
    "response = requests.post(api_url, headers=myheader,json = mydata)\n",
    "print(response.json())"
   ]
  },
  {
   "cell_type": "code",
   "execution_count": null,
   "metadata": {},
   "outputs": [],
   "source": []
  }
 ],
 "metadata": {
  "kernelspec": {
   "display_name": "Python 3",
   "language": "python",
   "name": "python3"
  },
  "language_info": {
   "codemirror_mode": {
    "name": "ipython",
    "version": 3
   },
   "file_extension": ".py",
   "mimetype": "text/x-python",
   "name": "python",
   "nbconvert_exporter": "python",
   "pygments_lexer": "ipython3",
   "version": "3.7.6"
  }
 },
 "nbformat": 4,
 "nbformat_minor": 5
}
